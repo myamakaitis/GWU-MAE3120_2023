{
 "cells": [
  {
   "cell_type": "markdown",
   "id": "756bed1a",
   "metadata": {},
   "source": [
    "# Camera Lenses\n",
    "\n",
    "They include prime, zoom, and telecentric lenses as well as microscope objectives\n",
    "\n",
    "<img src=\"img/CameraLenses.PNG\" width=\"360\">"
   ]
  },
  {
   "cell_type": "markdown",
   "id": "6c4160c8",
   "metadata": {},
   "source": [
    "## Depth of field \n",
    "\n",
    "\n",
    "\n",
    "## Depth of focus\n",
    "\n",
    "## Lens blur"
   ]
  }
 ],
 "metadata": {
  "kernelspec": {
   "display_name": "Python 3 (ipykernel)",
   "language": "python",
   "name": "python3"
  },
  "language_info": {
   "codemirror_mode": {
    "name": "ipython",
    "version": 3
   },
   "file_extension": ".py",
   "mimetype": "text/x-python",
   "name": "python",
   "nbconvert_exporter": "python",
   "pygments_lexer": "ipython3",
   "version": "3.9.12"
  }
 },
 "nbformat": 4,
 "nbformat_minor": 5
}
