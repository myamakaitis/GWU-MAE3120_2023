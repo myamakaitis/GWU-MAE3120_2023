{
 "cells": [
  {
   "cell_type": "markdown",
   "metadata": {},
   "source": [
    "# Midterm review\n",
    "\n",
    "## 1- Measurement systems\n",
    "### Goal of experiments\n",
    "- __1- Engineering/scientific experimentation__\n",
    "- __2- Operational system__\n",
    "<img src=\"img/DIKW_Pyramid.png\" width=\"240\">\n",
    "\n",
    "<img src=\"img/DAS_FlowChart.jpg\" width=\"240\">\n",
    "\n",
    "### Units - Unit conversion - Dimensional analysis\n",
    "### Errors and Uncertainties\n",
    "<img src=\"img/AccuracyVsPrecision_b.png\" width=\"240\">"
   ]
  },
  {
   "cell_type": "markdown",
   "metadata": {},
   "source": [
    "## 2- Dynamic response of measurement systems\n",
    "\n",
    "\\begin{align*}\n",
    "a_n\\frac{d^ny}{dt^n} + a_{n-1}\\frac{d^{n-1}y}{dt^{n-1}}x + \\dots + a_1 \\frac{dy}{dt} + a_0 y = F(t)\n",
    "\\end{align*}\n",
    "\n",
    "###  0$^{\\mathrm{th}}$ order system\n",
    "\n",
    "\\begin{align*}\n",
    "y(t) = K F(t) = \\frac{1}{a_0} F(t) \\quad \\text{$K=1/a_0$ is called the _static sensitivity_ or _steady-state gain_}\n",
    "\\end{align*}\n",
    "\n",
    "###  1$^{\\mathrm{st}}$ order system\n",
    "\n",
    "\\begin{align*}\n",
    "a_1 \\frac{dy}{dt} + a_0 y = F(t) \\quad\n",
    "\\tau \\frac{dy}{dt} + y = K F(t)\n",
    "\\end{align*}\n",
    "with $\\tau = a_1/a_0$ the time constant of the system.  \n",
    "\n",
    "###  2$^{\\mathrm{nd}}$ order system\n",
    "\n",
    "\\begin{align*}\n",
    "a_2 \\frac{d^2y}{dt^2} + a_1 \\frac{dy}{dt} + a_0 y = F(t) \\quad\n",
    "\\frac{1}{\\omega^2_n} \\frac{d^2y}{dt^2} + \\frac{2\\zeta}{\\omega_n} \\frac{dy}{dt} + y = K F(t)\n",
    "\\end{align*}"
   ]
  },
  {
   "cell_type": "markdown",
   "metadata": {},
   "source": [
    "## 3- Digital data acquisition\n",
    "### Binary to decimal conversion\n",
    "\n",
    "### ADC system\n",
    "__Resolution__\n",
    "\\begin{align*}\n",
    "\\Delta V = \\frac{V_{max} - V_{min}}{2^N}\n",
    "\\end{align*}\n",
    "N : number of bits\n",
    "\n",
    "__Quantization error__\n",
    "\\begin{align*}\n",
    "Q = \\pm \\frac{1}{2} \\Delta V = \\pm \\frac{V_{max} - V_{min}}{2^{N+1}}\n",
    "\\end{align*}\n",
    "\n",
    "__Clipping__\n",
    "### Discrete Sampling\n",
    "\n",
    "### Aliasing\n",
    "Nyquist Shannon sampling rate thereom states:\n",
    ">_If a function, $y(t)$, contains no frequencies greater than $f_{signal}(MAX)$, it is completely determined if it is sampled with a sampling frequency $f_s$ such that:_\n",
    "\\begin{align*}\n",
    "f_s > 2 f_{signal}(MAX)\n",
    "\\end{align*}\n",
    "> if $f_s \\ngtr 2f_{signal}(MAX)$\n",
    "\\begin{align*}\n",
    "f_a =  \\left| f - f_s \\cdot \\mathrm{NINT}\\left( \\frac{f}{f_s} \\right) \\right|\n",
    "\\end{align*}"
   ]
  },
  {
   "cell_type": "code",
   "execution_count": 16,
   "metadata": {},
   "outputs": [
    {
     "name": "stdout",
     "output_type": "stream",
     "text": [
      "500\n"
     ]
    }
   ],
   "source": [
    "f = 500\n",
    "f_s = 1024\n",
    "\n",
    "f_a = abs(f-f_s*round(f/f_s))\n",
    "\n",
    "print(f_a)"
   ]
  },
  {
   "cell_type": "markdown",
   "metadata": {},
   "source": [
    "### Fourier Series\n",
    "\\begin{align*}\n",
    "y(t) = \\frac{A_0}{2} + \\sum_{n=1}^{\\infty} \\left( A_n \\cos \\left(\\frac{2\\pi nt}{T}\\right) + B_n \\sin \\left(\\frac{2\\pi nt}{T}\\right) \\right)\n",
    "\\end{align*}\n",
    "- __Fundamental harmonic/frequency__: $n=1$, noted $\\omega_0=2\\pi/T$ or $f_0 = 1/T$.\n",
    "- $T$: signal period\n",
    "- Frequencies of $\\sin$ and $\\cos$ are multiple of the fundamental frequency $\\omega$: __$n^{th}$ harmonic__.\n",
    "- $A_n$, $B_n$: Fourier coefficients\n",
    "- $A_0/2$: mean of the function\n",
    "\n",
    "### Fourier Transform, DFT, FFT\n",
    "\\begin{align*}\n",
    "Y(k \\Delta f) = \\sum_{n=0}^{N-1} y(n \\Delta t) e^{-i (2\\pi k \\Delta f)(n\\Delta t)} \\qquad k = 0,\\,1,\\,2, \\dots , \\, N-1\n",
    "\\end{align*}\n",
    "\n",
    "\\begin{array}{ll}\n",
    "N & \\text{number of samples taken over sampling interval $T_s$}\\\\\n",
    "T_s & T_s = N\\Delta t\\quad\\text{total sampling time}\\\\\n",
    "\\Delta f & \\text{frequency increment/resolution}\\\\\n",
    " & \\Delta f = 1/T_s = 1/N\\Delta t= f_s/N\\\\\n",
    "\\Delta t & \\text{time increment (or sampling period)}\\\\\n",
    " & \\Delta t = T_s/N\\\\\n",
    "f_s & \\text{sampling rate}\\\\\n",
    " & f_s = 1/\\Delta t = N/T_s\\\\\n",
    "f_{max} & f_{max} = f_{folding} = f_s/2 = N/2 \\cdot \\Delta f \\quad \\text{max resolved frequency}\n",
    "\\end{array}\n",
    "\n",
    "### Leakage\n",
    "### Windowing\n",
    "### Anti-aliasing filter\n",
    "\n",
    "### Analog signal reconstruction\n",
    "If an analog signal is sampled properly: reconstruct the analog signal with the _cardinal series_."
   ]
  },
  {
   "cell_type": "markdown",
   "metadata": {},
   "source": [
    "## 4- Signal Conditioning\n",
    "\n",
    "### Basic electronics\n",
    "\n",
    "### Filters\n",
    "#### $1^{\\mathrm{st}}$ order low-pass filter\n",
    "\n",
    "\\begin{align*}\n",
    "\\omega_{cutoff} & = \\frac{1}{RC} \\quad  f_{cutoff} =  \\frac{\\omega_{cutoff}}{2 \\pi} = \\frac{1}{2\\pi RC} \\\\\n",
    "G & = \\frac{|V_{out}|}{|V_{in}|} =  \\frac{1}{\\sqrt{1+ \\left( \\frac{f}{f_{cutoff}}\\right)^2 }} \\quad\n",
    "\\phi = -\\arctan \\left( \\frac{f}{f_{cutoff}} \\right)\n",
    "\\end{align*}\n",
    "#### Low-pass filter of order $n$\n",
    "\\begin{align*}\n",
    "G = \\frac{1}{\\sqrt{1+ \\left( \\frac{f}{f_{cutoff}}\\right)^{2n} }}\n",
    "\\end{align*}\n",
    "#### $1^{\\mathrm{st}}$ order high-pass filter\n",
    "\\begin{align*}\n",
    "G = \\frac{1}{\\sqrt{1+ \\left( \\frac{f_{cutoff}}{f}\\right)^2 }} \\quad\n",
    "\\phi = \\arctan \\left( \\frac{f_{cutoff}}{f} \\right)\n",
    "\\end{align*}\n",
    "\n",
    "#### high-pass filter of order $n$\n",
    "\\begin{align*}\n",
    "G = \\frac{1}{\\sqrt{1+ \\left( \\frac{f_{cutoff}}{f}\\right)^{2n} }} \n",
    "\\end{align*}\n",
    "\n",
    "\n",
    "### Op-Amps\n",
    "ideal op-amps vs real effects (impedance loading, GBP, CMRR)"
   ]
  },
  {
   "cell_type": "markdown",
   "metadata": {},
   "source": [
    "## 5- Design Stage uncertainty analysis\n",
    "\n",
    "### Expected uncertainty\n",
    "RSS: root of the sum of the squares \n",
    "\n",
    "### Combining elemental uncertainties\n",
    "\\begin{align}\n",
    "u_{sys} = \\sqrt{\\sum_i u_{e,i}^2} \\quad \\text{with $u_{e,i}$ elemental error}\n",
    "\\end{align}\n",
    "\n",
    "### Overall uncertainty\n",
    "\\begin{align}\n",
    "u_{overall} = \\sqrt{\\sum_j u_{sys,j}^2} \\quad \\text{with $u_{sys,j}$ error of each component}\n",
    "\\end{align}\n",
    "\n",
    "\n",
    "### Uncertainty of a result\n",
    "\\begin{align}\n",
    "R = f(x_1, x_2, \\dots) \\quad u_R = \\sqrt{\\sum_i \\left( u_{x_i} \\frac{\\partial f}{\\partial x_i} \\right)^2}\n",
    "\\end{align}\n",
    "If f is polynomial\n",
    "\\begin{align}\n",
    "f = x_1^{a_1} \\cdot x_2^{a_2} \\cdot \\dots \\quad \\frac{u_R}{R} = \\sqrt{\\sum_i \\left( \\frac{u_{x_i}}{x_i} a_i \\right)^2}\n",
    "\\end{align}\n"
   ]
  },
  {
   "cell_type": "markdown",
   "metadata": {},
   "source": [
    "## Sample Problems\n",
    "### Quiz\n",
    "> What are the major elements of a data acquisition/measurement system?\n",
    "\n",
    "\n",
    "> How can you check for clipping in your acquired data? How could you correct for it?\n",
    "\n",
    "> When acquiring a repeatable signal of fixed frequency with a data acquisition system, which test can you use to determine if you have aliasing in your data?\n",
    "\n",
    "> In digital data acquisition, what is leakage? How will it manifest itself on a frequency spectrum?\n",
    "\n",
    "> Propose at least one strategy to minimize leakage.\n",
    "\n",
    "> How should you select the sampling frequency and number of samples acquired with digital data acquisition system to have the best possible frequency resolution?\n",
    "\n",
    "> A signal consists of a sine wave of frequency $f$ = 30 Hz. Data are sampled discretely at sampling frequency $f_s$ = 49 Hz. Is there aliasing? Calculate the apparent frequency in Hz."
   ]
  },
  {
   "cell_type": "markdown",
   "metadata": {},
   "source": [
    "### Filter\n",
    "A beam vibrates at 100 Hz. The vibrations are measured with a strain gage and Wheatstone bridge.  The output voltage of the sensor is $V_{out} = 2 V_s \\epsilon$, with $V_s=5.00$ V the supply voltage and $\\epsilon=\\delta L/L$ the strain.  The strain is in the range of $\\pm 5\\times 10^{-4}$. In addition, you know that:\n",
    "\n",
    "> there is noise on the input: $_{fnoise}$ = 40,000Hz with amplitude 0.100 mV .\n",
    "\n",
    "> The output is sent to your NI USB-6008 DAQ board, which has a 12bit A/D converter with a range of $\\pm$ 5V .\n",
    "\n",
    "> All op-amps have a GBP (non-inverting) of 1.0 MHz.\n",
    "\n",
    "Propose a scheme to condition the signal (amplify if necessarty and filter the noise out)."
   ]
  },
  {
   "cell_type": "markdown",
   "metadata": {},
   "source": [
    "_Solution_: Here we have to design the signal conditioning step of the measurement system.  This has two steps:\n",
    "- 1 select amplifier gain (if necessary) so that we pair the DAQ and Wheatstone bridge well.\n",
    "- 2 select cutoff frequency and order of filter to effectively remove the noise from the signal.  Effective filtering means that amplitude of the noise should be less than DAQ (ADC) resolution and carrier component of signal is not significantly affected."
   ]
  },
  {
   "cell_type": "markdown",
   "metadata": {},
   "source": [
    "__step 1__: First we need to determine what is the amplitude of the carrier signal."
   ]
  },
  {
   "cell_type": "code",
   "execution_count": 3,
   "metadata": {},
   "outputs": [],
   "source": [
    "import numpy\n",
    "A_c = 2*5.00*0.0005\n",
    "f_c = 100 # Hz\n",
    "A_n = 0.0001\n",
    "f_n = 40000 #Hz\n",
    "#V_o = A*numpy.sin(2*numpy.pi*100*t)"
   ]
  },
  {
   "cell_type": "markdown",
   "metadata": {},
   "source": [
    "So in summary we have:\n",
    "- Carrier signal: $f_c$ = 100 Hz, $A_c$ = 5.00 mV\n",
    "- Noise signal: $f_n$ = 40 000 Hz, $A_n$ = 0.100 mV\n",
    "\n",
    "DAQ has resolution: \n",
    "- $\\Delta V = (V_M - V_m)/(2^N)$ "
   ]
  },
  {
   "cell_type": "code",
   "execution_count": null,
   "metadata": {},
   "outputs": [],
   "source": [
    "deltaV = (10)/2**12\n",
    "print('\\Delta V = ',deltaV,' V')"
   ]
  },
  {
   "cell_type": "markdown",
   "metadata": {},
   "source": [
    "Here we see that the signal is about twice the resolution of the DAQ.  We have to amplify!\n",
    "\n",
    "We select gain such that amplitude of amplified carrier is 80% of input range of DAS, or 4 V."
   ]
  },
  {
   "cell_type": "code",
   "execution_count": null,
   "metadata": {},
   "outputs": [],
   "source": [
    "# gain of amplifier\n",
    "G=4/0.005\n",
    "print('G = ',G)"
   ]
  },
  {
   "cell_type": "markdown",
   "metadata": {},
   "source": [
    "While a gain of 800 is ok from a GBP point of view, we will run into impedance loading issues ($R$ will be either too high compare to $R_{in} = 1 M\\Omega$ of real op-amp, or too small with respect to $R_{out} = 1 \\Omega$ of real op-amp.  Therefore ideal op-amp rules will fail.  As a rule of thumb we do not want the gain of amplifier stage to be more than 30.\n",
    "\n",
    "Let's use two stages."
   ]
  },
  {
   "cell_type": "code",
   "execution_count": null,
   "metadata": {},
   "outputs": [],
   "source": [
    "# use 2 amplifier stages\n",
    "G_i = numpy.sqrt(G)\n",
    "print('G_i = ', G_i)\n",
    "A_cA = A_c*G\n",
    "A_nA = A_n*G\n",
    "print('amplitude of carrier ',A_cA,' V', 'amplitude of noise ',A_nA, ' V')"
   ]
  },
  {
   "cell_type": "markdown",
   "metadata": {},
   "source": [
    "Step 2:  Select parameter of Low-pass filter, i.e.:\n",
    "- select $f_{co}$, and\n",
    "- the order $n$ of LPF.\n",
    "\n",
    "Again with the goals:\n",
    "- $A_n < \\Delta V$\n",
    "- $A_c$ and $\\phi_c$ not changed significantly"
   ]
  },
  {
   "cell_type": "code",
   "execution_count": null,
   "metadata": {},
   "outputs": [],
   "source": [
    "#gain of LPF for noise\n",
    "G_LPF_n = deltaV/A_nA\n",
    "print(G_LPF_n)"
   ]
  },
  {
   "cell_type": "markdown",
   "metadata": {},
   "source": [
    "Therefore the gain of your low pass filter at the frequency of the noise should be about 3%.\n",
    "\n",
    "Let's select a cutoff frequency of 10 times the carrier frequency and assess its merit."
   ]
  },
  {
   "cell_type": "code",
   "execution_count": null,
   "metadata": {},
   "outputs": [],
   "source": [
    "# n = 1 LPF\n",
    "f_co = 10*f_c\n",
    "G_LPF = 1/numpy.sqrt(1+(f_n/f_co)**2)\n",
    "print(f_co, G_LPF)\n",
    "G_LPF = 1/numpy.sqrt(1+(f_c/f_co)**2)\n",
    "phi = - numpy.arctan(f_c/f_co)*180/numpy.pi #deg\n",
    "print(G_LPF, phi)"
   ]
  },
  {
   "cell_type": "markdown",
   "metadata": {},
   "source": [
    "We have a successful design!  \n",
    "\n",
    "The noise is now below the resolution of the DAS and the carrier frequency has not been affected significantly (0.5% decrease in amplitude, phase of $\\approx-6^\\circ$)."
   ]
  },
  {
   "cell_type": "markdown",
   "metadata": {},
   "source": [
    "## Dynamic response\n",
    "A first-order, passive low-pass (RC) filter is designed to have a cut-off frequency, $f_c = 1$ kHz. Its resistance equals 120 $\\Omega$. Determine the filter:\n",
    "> time constant (in s)\n",
    "\n",
    "> capacitance (in F)\n",
    "\n",
    "> signal magnitude ratio at $f = 3$ kHz."
   ]
  },
  {
   "cell_type": "code",
   "execution_count": null,
   "metadata": {},
   "outputs": [],
   "source": []
  }
 ],
 "metadata": {
  "kernelspec": {
   "display_name": "Python 3 (ipykernel)",
   "language": "python",
   "name": "python3"
  },
  "language_info": {
   "codemirror_mode": {
    "name": "ipython",
    "version": 3
   },
   "file_extension": ".py",
   "mimetype": "text/x-python",
   "name": "python",
   "nbconvert_exporter": "python",
   "pygments_lexer": "ipython3",
   "version": "3.9.13"
  }
 },
 "nbformat": 4,
 "nbformat_minor": 2
}
