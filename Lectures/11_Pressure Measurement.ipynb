{
 "cells": [
  {
   "cell_type": "markdown",
   "metadata": {},
   "source": [
    "# 11 Pressure Measurement\n",
    "Pressure can be measured in many ways.  Here we will see:\n",
    "- Mechanical\n",
    "- Electronic"
   ]
  },
  {
   "cell_type": "markdown",
   "metadata": {},
   "source": [
    "## Absolute vs Gage Pressure\n",
    "\n",
    "\n",
    "\\begin{align}\n",
    "P_{gage} = P_{abs}-P_{atm}\n",
    "\\end{align}\n",
    "\n",
    "<img src=\"img/GagePressure.png\" width=\"200\">\n",
    "\n",
    "## Dynamic Response\n",
    "\n",
    "<img src=\"img/PressureTubes_NASA.png\" width=\"300\">\n",
    "https://www.grc.nasa.gov/www/k-12/airplane/tunpsm.html\n",
    "<img src=\"img/ScanivalvePressureScanner.png\" width=\"300\">\n",
    "<img src=\"img/PT_tube.png\" width=\"300\">\n",
    "\n",
    "\n",
    "\\begin{align}\n",
    "\\left| \\frac{P}{P_0} \\right| = \\frac{1}{\\sqrt{\\left( 1 - \\left( \\frac{f}{f_n} \\right)^2  \\right)^2 + 4h^2 \\left( \\frac{f}{f_n} \\right)^2 }}\n",
    "\\end{align}\n",
    "with $f_n$ natural frequency, $h$ damping ratio\n",
    "\\begin{align}\n",
    "f_n = \\sqrt{\\frac{3 \\pi r^2 c^2}{4L V}} \\quad h = \\frac{2 \\mu}{\\rho c r^3} \\sqrt{3LV}{\\pi}\n",
    "\\end{align}\n",
    "with the for the fluid in the pressure transmitting tube: $c$ speed of sound, $\\mu$ dynamic viscosity, $\\rho$ density.\n",
    "\n",
    "Phase angle:\n",
    "\\begin{align}\n",
    "\\phi = \\tan^{-1} \\left( \\frac{-2 h (f/f_n)}{1-(f/f_n)^2} \\right)\n",
    "\\end{align}\n",
    "\n",
    "_example_\n",
    "\n",
    "\n",
    "A pressure transducer is connected to measurement test section through a thin tube.  The tube has radius $r=0.25$ mm and length $L=75$ mm.  It connects to a cavity of volume $V=3500$ mm$^3$.  The gas is air at 1 atm and 293 K.\n",
    "- Calculate natural frequency and damping ratio of this system\n",
    "- Calculate the attenuation for a 100 Hz pressure wave."
   ]
  },
  {
   "cell_type": "code",
   "execution_count": 3,
   "metadata": {},
   "outputs": [
    {
     "name": "stdout",
     "output_type": "stream",
     "text": [
      "3.5e-06\n"
     ]
    }
   ],
   "source": [
    "import numpy\n",
    "r = 0.25E-3 #m\n",
    "c = 340 #m/s\n",
    "L = 5 #m\n",
    "V = 3500E-9 #m3\n",
    "print(V)"
   ]
  },
  {
   "cell_type": "code",
   "execution_count": 4,
   "metadata": {},
   "outputs": [
    {
     "name": "stdout",
     "output_type": "stream",
     "text": [
      "f_n =  31.18928862985743  Hz\n"
     ]
    }
   ],
   "source": [
    "fn = numpy.sqrt((3*numpy.pi* r**2 * c**2)/(4*L *V))\n",
    "print('f_n = ',fn,' Hz')"
   ]
  },
  {
   "cell_type": "markdown",
   "metadata": {},
   "source": [
    "## Mechanical pressure measurement\n",
    "\n",
    "### Manometer\n",
    "\n",
    "\\begin{align}\n",
    "P_0 = \\rho \\text{g} \\Delta z - \\rho_0 \\text{g} h + P_{atm}\n",
    "\\end{align}\n",
    "\n",
    "The sensitivity of a manometer is defined as: $ K = \\frac{\\Delta z}{P_0 - P_{atm}}$.  It can be increased by changing $\\rho$ or also by inclining leg of manometer on which we do pressure measurement to increase readibility of $\\Delta z$.  \n",
    "\n",
    "### Mechanical pressure gages"
   ]
  },
  {
   "cell_type": "markdown",
   "metadata": {},
   "source": [
    "## Electronic pressure transducers\n",
    "\n",
    "### Strain gage\n",
    "\n",
    "### Capacitance\n",
    "\n",
    "### LVDT\n",
    "\n",
    "### Optical\n",
    "\n",
    "## Piezoelectric pressure transducers"
   ]
  },
  {
   "cell_type": "markdown",
   "metadata": {},
   "source": [
    "## Examples\n",
    "### Pitot-Static Probe\n",
    "\n",
    "A Pitot-Static Probe is placed in an air jet to measure air speed at sea level, $15^\\circ$C, and 1 atmosphere (101,325 Pa), $\\rho_{air} = 1.225$ kg/m$^3$.  The differential pressure is measured with a U-tube manometer that uses water ($\\rho_{water}=1002$ kg/m$^3$).  The height difference in the manometer is 1.00 m.\n",
    "\n",
    "\n",
    "- Calculate the air speed measured by the Pitot-static tube at sea level.\n",
    "\n",
    "- What would be the effect of altitude on velocity measurements with a Pitot-static tube?  Would your reading under- or over-estimate the air speed?\n",
    "- Remember from your aerodynamics class that the troposphere region of the earth atmosphere (0-11 km) follows a temperature gradient regime with $dT/dh = a = -6.5$ K/km.  You can show (do it at home) that the air density varies as: \n",
    "\n",
    "\\begin{align}\n",
    "\\frac{\\rho}{\\rho_\\circ} = \\left( \\frac{T}{T_\\circ} \\right)^{-\\left( \\frac{g}{a R_s} +1 \\right)} \\quad \\textrm{where}\\, R_s = 287 \\frac{\\mathrm{J}}{\\mathrm{kg} \\cdot \\mathrm{K}} \\textrm{air specific gas constant}\n",
    "\\end{align}\n",
    "\n",
    "The height difference in the manometer is still 1 m.  Calculate the air speed at a 3,000 m altitude.  Neglect the effect of gravity on altitude, and assume the water in the manometer is still at $15^\\circ$ C.\n",
    "\n"
   ]
  },
  {
   "cell_type": "code",
   "execution_count": 9,
   "metadata": {},
   "outputs": [
    {
     "name": "stdout",
     "output_type": "stream",
     "text": [
      "U_infty =  126.68211864218829  m/s\n"
     ]
    }
   ],
   "source": [
    "rho_h20 = 1002 # kg/m3\n",
    "rho_infty = 1.225 #kg/m3\n",
    "DeltaZ = 1.0 #m\n",
    "g = 9.81 # m/s2\n",
    "\n",
    "U_infty = numpy.sqrt(2*rho_h20/rho_infty*DeltaZ*g)\n",
    "print('U_infty = ',U_infty,' m/s')"
   ]
  },
  {
   "cell_type": "code",
   "execution_count": 14,
   "metadata": {},
   "outputs": [
    {
     "name": "stdout",
     "output_type": "stream",
     "text": [
      "T_3 =  268.5  K ,  rho_3 =  1.124405549570362  kg/m3 ,  U_3 =  132.22752593523535  m/s\n"
     ]
    }
   ],
   "source": [
    "T_0 = 288 # K\n",
    "T_3 = T_0-6.5*3\n",
    "rho_3 = rho_infty*(T_3/T_0)**(-(g/287*(-6.5))+1)\n",
    "U_3 = numpy.sqrt(2*rho_h20/rho_3*DeltaZ*g)\n",
    "print('T_3 = ', T_3, ' K',', ', 'rho_3 = ', rho_3,' kg/m3',', ', 'U_3 = ',U_3,' m/s')"
   ]
  },
  {
   "cell_type": "markdown",
   "metadata": {},
   "source": [
    "### Strain Gage Pressure Measurement\n",
    "\n",
    "One entrepreneurial MAE-3120 student decides to create a pressure transducer by mounting a strain gage to the side wall of a soda can.  The soda can has 66.0 mm-diameter, 0.105 mm-wall thickness (side walls), and is made of aluminum with $E = 70.0$ GPa Young's modulus, and $\\nu=0.35$ Poisson ratio.  The strain gage has resistance $120\\,\\Omega$ and $S = 2.05$ strain-gage factor.  \n",
    "\n",
    "- What circuit should the student use to measure the can deformation?\n",
    "- The can opening is connected to a pressure line that the student want to monitor.  What kind of pressure will be recorded, i.e. $P_{abs}, P_{gage}$?\n",
    "- Remember that the Hoop Stress, $\\sigma_H$, on a thin wall cylinder that is pressurized is given by:\n",
    "\\begin{align}\n",
    "\\sigma_H &= \\frac{P_g D}{2t}, \\quad \\textrm{where}\\; P_g = P_{in}-P_{atm}, \\quad D:\\textrm{diameter},\\; \\quad t:\\textrm{wall thickness}\\\\\n",
    "\\sigma_L &= \\frac{P_g D}{4t}, \\quad \\textrm{where}\\; \\sigma_L : \\textrm{Longitudinal Stress}\n",
    "\\end{align}\n",
    "Remember also that stress and strain are related by:\n",
    "\\begin{align}\n",
    "\\epsilon_H &= \\frac{1}{E} (\\sigma_H - \\nu \\sigma_L)\\\\\n",
    "\\epsilon_L &= \\frac{1}{E} (\\sigma_L - \\nu \\sigma_H)\n",
    "\\end{align}\n",
    "Assume he/she used a quarter-wave Wheatstone bridge with 5.00 V excitation and that the bridge is balanced at no load.  The student measures a voltage of 3.95 mV, calculate the applied gage pressure in kPa.  \n",
    "\n"
   ]
  },
  {
   "cell_type": "markdown",
   "metadata": {},
   "source": [
    "\\begin{align}\n",
    "\\epsilon_H & = \\frac{P_g D}{2E t }\\cdot \\left( 1-\\frac{\\nu}{2} \\right)\\\\\n",
    "P_g &= \\frac{\\epsilon_H 2E t}{D(1-\\nu /2)}\n",
    "\\end{align}\n",
    "Remember for 1/4 Wheatstone bridge\n",
    "\\begin{align*}\n",
    "\\frac{V_o}{V_s} = \\pm \\frac{1}{4} \\epsilon_H S\n",
    "\\end{align*}"
   ]
  },
  {
   "cell_type": "code",
   "execution_count": 18,
   "metadata": {},
   "outputs": [
    {
     "name": "stdout",
     "output_type": "stream",
     "text": [
      "eps_H =  1541.4634146341468  micro-strain\n"
     ]
    }
   ],
   "source": [
    "V_o = 3.95E-3; V_s = 5; S = 2.05\n",
    "eps_H = 4*V_o/V_s/S\n",
    "print('eps_H = ',eps_H*1E6, ' micro-strain')"
   ]
  },
  {
   "cell_type": "code",
   "execution_count": 22,
   "metadata": {},
   "outputs": [
    {
     "name": "stdout",
     "output_type": "stream",
     "text": [
      "P_g =  416.1526573943427  kPa  =  4.107107400881744  atm\n"
     ]
    }
   ],
   "source": [
    "E = 70E9; t = 0.105E-3; D = 66E-3; nu = 0.35\n",
    "P_g = 2* eps_H*E*t/(D*(1-nu/2))\n",
    "print('P_g = ', P_g/1000, ' kPa', ' = ', P_g/101325 , ' atm')"
   ]
  },
  {
   "cell_type": "code",
   "execution_count": null,
   "metadata": {},
   "outputs": [],
   "source": []
  }
 ],
 "metadata": {
  "kernelspec": {
   "display_name": "Python 3 (ipykernel)",
   "language": "python",
   "name": "python3"
  },
  "language_info": {
   "codemirror_mode": {
    "name": "ipython",
    "version": 3
   },
   "file_extension": ".py",
   "mimetype": "text/x-python",
   "name": "python",
   "nbconvert_exporter": "python",
   "pygments_lexer": "ipython3",
   "version": "3.9.13"
  }
 },
 "nbformat": 4,
 "nbformat_minor": 2
}
