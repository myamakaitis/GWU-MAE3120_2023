{
 "cells": [
  {
   "cell_type": "markdown",
   "metadata": {},
   "source": [
    "# 07 Design-Stage Uncertainty Analysis\n",
    "\n",
    "accuracy of pressure transducer $\\pm 0.25 \\%$ FS or $\\pm 0.25 \\%$ of reading.\n",
    "\n",
    "Full scale 0-100 bar:\n",
    "\n",
    "$\\pm 0.25 \\%$ of reading, and I read 1 bar, $u_P = 0.0025 \\times P$, ie, 0.0025 bar.  If $P = 10$ bar, $u_P = 0.025$ bar.\n",
    "\n",
    "$\\pm 0.25 \\%$ FS (full scale), independent of $P$ measured, $u_P = 0.25\\% \\times full scale$.  ie $u_P = 100\\times 0.0025 = 0.25$ bar.  If I read 1 bar, $u_P = 0.25 $ bar = 25\\%.  If $P = 10$ bar, $u_P = 0.25$ bar = 2.5\\% of reading.\n",
    "\n",
    "accuracy includes: linearity, hysterisis, and repeatability\n",
    "\n",
    "Linearity: Perfect sensor is a $0^th$ order sensor: $y(t) = K F(t)$: if $K$ is a constant: linear response of the sensor.  If $K$ is not constant: response is not linear anymore.  Need to calibrate, very, very carefully.\n",
    "\n",
    "Hysterisis: Sensitivity to direction of excitation, ie loading vs unloading of sensor.\n",
    "\n",
    "Repeatability: \n",
    "\n",
    "$y(t) = K F(t) + a$: $ a$ 0 offset.  due to drift, thermal effects, etc.  We remove it by ``zeroing'' the sensor, ie taking value at 0 input.\n",
    "\n",
    "\n",
    "## Elemental Uncertainties\n",
    "Uncertainty due to elemental contributors, $u_i$:\n",
    "\\begin{align}\n",
    "u_{e} = \\sqrt{\\sum_i u_i^2}\n",
    "\\end{align}\n",
    "If you have several components\n",
    "\\begin{align}\n",
    "u_{overall} & = \\sqrt{\\sum_{comp} u_{comp}^2}\n",
    "\\end{align}\n",
    "\n",
    "### Pressure Regulator Calibration \n",
    "\n",
    "It is desired to use an Equilibar pressure regulator QPV in gas flow experiment.  The specifications for this regulator are:\n",
    "(https://www.equilibar.com/electronic-pressure-regulators/)\n",
    "\n",
    "> accuracy = .25%FS\n",
    "\n",
    "> repeatability = 0.02%FS"
   ]
  },
  {
   "cell_type": "markdown",
   "metadata": {},
   "source": [
    "However, the pressure regulator accuracy is too low for our application and one decides to calibrate it with a pressure transducer that has an accuracy of 0.04 % of FS.\n",
    "\n",
    "> What will be the accuracy of the calibrated instrument?"
   ]
  },
  {
   "cell_type": "markdown",
   "metadata": {},
   "source": [
    "Ucertainty before calibration?\n",
    "\n",
    "common unit \\% FS"
   ]
  },
  {
   "cell_type": "code",
   "execution_count": 1,
   "metadata": {},
   "outputs": [
    {
     "name": "stdout",
     "output_type": "stream",
     "text": [
      "u_e =  0.25079872407968906  %FS\n"
     ]
    }
   ],
   "source": [
    "import numpy\n",
    "u_acc = 0.25\n",
    "u_rep = 0.02\n",
    "u_e = numpy.sqrt(u_acc**2+u_rep**2)\n",
    "print('u_e = ',u_e,' %FS')"
   ]
  },
  {
   "cell_type": "markdown",
   "metadata": {},
   "source": [
    "What if I calibrate?"
   ]
  },
  {
   "cell_type": "code",
   "execution_count": 2,
   "metadata": {},
   "outputs": [
    {
     "name": "stdout",
     "output_type": "stream",
     "text": [
      "u_e_cal =  0.044721359549995794  %FS\n"
     ]
    }
   ],
   "source": [
    "u_acc_cal = 0.04\n",
    "u_rep_cal = u_rep\n",
    "u_e_cal = numpy.sqrt(u_acc_cal**2+u_rep_cal**2)\n",
    "print('u_e_cal = ',u_e_cal,' %FS')"
   ]
  },
  {
   "cell_type": "markdown",
   "metadata": {},
   "source": [
    "### Pressure Measurement\n",
    "\n",
    "A pressure transducer is connected to a digital data-acquisition board on a computer.  The characteristics of the pressure transducer and the data-acquisition system (DAS) are given below.  All uncertainties are given at 95 % confidence level.  "
   ]
  },
  {
   "cell_type": "markdown",
   "metadata": {},
   "source": [
    "The environment temperature is uncertain by $\\pm 10^\\circ$C.\n",
    "\n",
    "\n",
    "> Pressure Transducer Characteristics: \n",
    "\n",
    "Range: 0-1,000 kPa \n",
    "\n",
    " Output: 0-5 V \n",
    "\n",
    " Linearity: $\\pm 0.25$ %FS \n",
    "\n",
    " Repeatability: $\\pm 0.06$ %FS \n",
    "\n",
    " Thermal-stability error: $\\pm 0.01$ %FS/$^\\circ$C  \n",
    "\n",
    "> DAS Characteristics:\n",
    "\n",
    " Number of bits: 10 bits\n",
    "\n",
    " Input range: $0-10,\\, 0-1,\\, 0-0.1,\\, 0-0.01$ V\n",
    "\n",
    " Gain error: $\\pm 2$ LSD\n",
    "\n",
    " Linearity: $\\pm 2$ LSD"
   ]
  },
  {
   "cell_type": "markdown",
   "metadata": {},
   "source": [
    "Overall Uncertainty for measurement: Combination of Pressure Transducer and DAS\n",
    "\n",
    "\\begin{align}\n",
    "u_{overall} & = \\sqrt{\\sum_{comp} u_{comp}^2} \\\\\n",
    "& = \\sqrt{u_{PT}^2 + u_{DAS}^2}\n",
    "\\end{align}\n",
    "\n",
    "Uncertainty of presssure transducer\n",
    "\\begin{align}\n",
    "u_{PT} = \\sqrt{\\sum_i u_i^2}\n",
    "\\end{align}\n",
    "with $u_i$ elemental error:\n",
    "> linearity: $\\pm 0.25$ %FS \n",
    "\n",
    "> repeatability: $\\pm 0.06$ %FS \n",
    "\n",
    "> Thermal stability: $\\pm 0.01$ %FS/$^\\circ$C"
   ]
  },
  {
   "cell_type": "code",
   "execution_count": 4,
   "metadata": {},
   "outputs": [
    {
     "name": "stdout",
     "output_type": "stream",
     "text": [
      "0.0125 0.0029999999999999996 0.005\n",
      "0.013793114224133724  V\n"
     ]
    }
   ],
   "source": [
    "# U_PT\n",
    "FS_1 = 1000 #kPa\n",
    "FS_2 = 5 # V\n",
    "FS_3 = 100 # %\n",
    "# here we will work in V, because error %FS, ie fixed V value\n",
    "# if error % of reading, % would be ok as well.\n",
    "tempFlu = 10 # degC\n",
    "\n",
    "u_lin = 0.0025 * FS_2 # V\n",
    "u_rep = 0.0006 * FS_2 # V\n",
    "u_th = 0.0001 * FS_2 * tempFlu # V\n",
    "u_PT = numpy.sqrt(u_lin**2 + u_rep**2 + u_th**2)\n",
    "print(u_lin, u_rep, u_th)\n",
    "print(u_PT, ' V')"
   ]
  },
  {
   "cell_type": "markdown",
   "metadata": {},
   "source": [
    "LSD: Least Significant Digit\n",
    "\n",
    "01101: binary word, LSD: bit associated with $2^0$ and MSD (most significant digit): bit associated with $2^{N-1}$ for $N$ bit word.\n",
    "\n",
    "ie value of the first bin in your digitized word/measurement.\n",
    "\n",
    "number of bins: $2^N$, $N$: number of bits\n",
    "\n",
    "size of a bin: resolution, $\\Delta V = \\frac{V_{max} - V_{min}}{2^N}$"
   ]
  },
  {
   "cell_type": "code",
   "execution_count": 7,
   "metadata": {},
   "outputs": [
    {
     "name": "stdout",
     "output_type": "stream",
     "text": [
      "0.0048828125 0.0048828125 0.001220703125\n",
      "0.007012405574387242  V\n"
     ]
    }
   ],
   "source": [
    "#u _DAS: 3 error sources: DO NOT FORGET QUANTIZATION ERROR\n",
    "\n",
    "N = 12 # bits\n",
    "Range = 10 # V, guarantee no clipping\n",
    "Q = Range/2**(N+1) # V\n",
    "LSD = 2* Q # V\n",
    "u_d_lin = 2 * LSD # V\n",
    "u_d_gain = 2 * LSD # V\n",
    "u_DAS = numpy.sqrt(u_d_lin**2 + u_d_gain**2 + Q**2)\n",
    "print(u_d_lin, u_d_gain, Q)\n",
    "print(u_DAS, ' V')"
   ]
  },
  {
   "cell_type": "code",
   "execution_count": 8,
   "metadata": {},
   "outputs": [
    {
     "name": "stdout",
     "output_type": "stream",
     "text": [
      "0.013793114224133724 0.007012405574387242\n",
      "0.015473326466526108  V\n"
     ]
    }
   ],
   "source": [
    "u_overall = numpy.sqrt(u_PT**2 + u_DAS**2)\n",
    "print(u_PT, u_DAS)\n",
    "print(u_overall, ' V')"
   ]
  },
  {
   "cell_type": "markdown",
   "metadata": {},
   "source": [
    "## Uncertainty of a result\n",
    "\n",
    "\\begin{align}\n",
    "R = f(x_1, x_2, \\dots) \\quad u_R = \\sqrt{\\sum_i \\left( u_{x_i} \\frac{\\partial f}{\\partial x_i} \\right)^2}\n",
    "\\end{align}\n",
    "\n",
    "If $f$/ is a polynomial:\n",
    "\\begin{align}\n",
    "f(x_1, x_2, \\dots) =  b \\prod_i x_i^{a_i} \n",
    "\\end{align}\n",
    "\n",
    "Then the uncertainty reduces to:\n",
    "\\begin{align}\n",
    "\\frac{u_R}{R} = \\sqrt{\\sum_i \\left( a_i \\frac{u_{x_i}}{x_i} \\right)^2}\\end{align}\n",
    "\n",
    "\n",
    "\n",
    "### Design of experiment\n",
    "\n",
    "> Example 1\n",
    "\n",
    "One wishes to determine the heat transfer coefficient, $h$, of a heated rod of length, $L$, and diameter, $D$, in a flow. By applying the first law of thermodynamics one can relate the input power of the experiment, $W$, to\n",
    "$h$ by:\n",
    "\n",
    "\\begin{align*}\n",
    "h = \\frac{W}{\\pi D L \\Delta T}, \\textrm{where $\\Delta$T is the temperature difference between the rod and the surrounding fluid}\n",
    "\\end{align*}\n",
    "\n",
    "The relative uncertainties are: $\\frac{u_L}{L}=0.1\\%$, $\\frac{u_D}{D}=0.2\\%$, $\\frac{u_{\\Delta T}}{\\Delta T} = 1.0\\%$.  One wishes to have a maximum relative inaccuracy of 2% of $h$.\n",
    "\n",
    "What should be the relative accuracy of the power measurements, $u_W/W$?\n"
   ]
  },
  {
   "cell_type": "markdown",
   "metadata": {},
   "source": [
    "\\begin{align}\n",
    "h = W^1 \\pi^{-1} D^{-1} L^{-1} \\Delta T^{-1}\n",
    "\\end{align}\n",
    "\n",
    "\\begin{align}\n",
    "\\frac{u_h}{h} = \\sqrt{(1\\times \\frac{u_W}{W})^2 + (-1 \\times \\frac{u_D}{D})^2 + (-1 \\times \\frac{u_L}{L})^2 + (-1 \\times \\frac{u_{\\Delta T}}{\\Delta T})^2}\n",
    "\\end{align}"
   ]
  },
  {
   "cell_type": "markdown",
   "metadata": {},
   "source": [
    "\\begin{align}\n",
    "(\\frac{u_W}{W})^2 = (\\frac{u_h}{h})^2 - \\left( (-1 \\times \\frac{u_D}{D})^2 + (-1 \\times \\frac{u_L}{L})^2 + (-1 \\times \\frac{u_{\\Delta T}}{\\Delta T})^2 \\right)\n",
    "\\end{align}"
   ]
  },
  {
   "cell_type": "code",
   "execution_count": 12,
   "metadata": {},
   "outputs": [
    {
     "name": "stdout",
     "output_type": "stream",
     "text": [
      "0.017175564037317667\n"
     ]
    }
   ],
   "source": [
    "u_hh = 0.02 \n",
    "u_DD = 0.002\n",
    "u_LL = 0.001\n",
    "u_tt = 0.01\n",
    "u_ww = numpy.sqrt(u_hh**2 - (u_DD**2 + u_LL**2 + u_tt**2))\n",
    "                  \n",
    "print(u_ww)"
   ]
  },
  {
   "cell_type": "markdown",
   "metadata": {},
   "source": [
    "uncertainty on W should be less than 1.7% at 95% confidence level (2 $\\sigma$)."
   ]
  },
  {
   "cell_type": "markdown",
   "metadata": {},
   "source": [
    "> Example 2:\n",
    "\n",
    "\\begin{align}\n",
    "C = 10 \\frac{A^3}{B^2}\n",
    "\\end{align}\n",
    "\n",
    "From a measurement with $n = 40$ points, we found:\n",
    " \n",
    "\\begin{align}\n",
    "\\bar{A} & = 20.10 \\quad S_A = 0.21 \\\\\n",
    "\\bar{B} & = 2.21 \\quad S_B = 0.043\n",
    "\\end{align}\n",
    "\n",
    "Find $u_C$."
   ]
  },
  {
   "cell_type": "markdown",
   "metadata": {},
   "source": [
    "Standard error on the mean at 95\\% confidence level for a large number of data points:\n",
    "\\begin{align}\n",
    "\\large\n",
    "\\mu = \\bar{x} \\pm 2 \\frac{S}{\\sqrt{n} } \n",
    "\\end{align}\n",
    "\n",
    "for a finite number of data points:\n",
    "\\begin{align*}\n",
    "\\large\n",
    "\\mu = \\bar{x} \\pm {t}_{a/2} \\frac{S}{\\sqrt{n} } \n",
    "\\end{align*}"
   ]
  },
  {
   "cell_type": "markdown",
   "metadata": {},
   "source": [
    "\\begin{align}\n",
    "C & = 10 \\cdot A^3 \\cdot B^{-2}\\\\\n",
    "\\frac{u_C}{C} & = \\sqrt{(3 \\cdot \\frac{u_A}{\\bar{A}})^2 + (-2 \\cdot \\frac{u_B}{\\bar{B}})^2}\\\\\n",
    "\\frac{u_A}{\\bar{A}} & =  \\frac{2}{\\bar{A}} \\frac{S_A}{\\sqrt{n}}  \n",
    "\\end{align}\n"
   ]
  },
  {
   "cell_type": "code",
   "execution_count": 17,
   "metadata": {},
   "outputs": [
    {
     "name": "stdout",
     "output_type": "stream",
     "text": [
      "0.0033038721822654707 0.006152847936074222\n",
      "0.009911616546796412 0.012305695872148444\n",
      "0.01580095862498664\n"
     ]
    }
   ],
   "source": [
    "import numpy\n",
    "n=40\n",
    "S_a = 0.21\n",
    "S_b = 0.043\n",
    "Abar = 20.10\n",
    "Bbar = 2.21\n",
    "\n",
    "u_abar_Abar = 2*S_a/numpy.sqrt(n)/Abar\n",
    "u_bbar_Bbar = 2*S_b/numpy.sqrt(n)/Bbar\n",
    "print(u_abar_Abar, u_bbar_Bbar)\n",
    "\n",
    "C = 10*Abar**3/Bbar**2\n",
    "u_c_C = numpy.sqrt((3*u_abar_Abar)**2+ (-2 *u_bbar_Bbar)**2)\n",
    "print(3*u_abar_Abar, 2*u_bbar_Bbar)\n",
    "print(u_c_C)"
   ]
  },
  {
   "cell_type": "markdown",
   "metadata": {},
   "source": [
    "B has the biggest effect on the result: it is less sensitive than A, but has the largest uncertainty."
   ]
  },
  {
   "cell_type": "code",
   "execution_count": null,
   "metadata": {},
   "outputs": [],
   "source": []
  }
 ],
 "metadata": {
  "kernelspec": {
   "display_name": "Python 3 (ipykernel)",
   "language": "python",
   "name": "python3"
  },
  "language_info": {
   "codemirror_mode": {
    "name": "ipython",
    "version": 3
   },
   "file_extension": ".py",
   "mimetype": "text/x-python",
   "name": "python",
   "nbconvert_exporter": "python",
   "pygments_lexer": "ipython3",
   "version": "3.9.13"
  }
 },
 "nbformat": 4,
 "nbformat_minor": 2
}
