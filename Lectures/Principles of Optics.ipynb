{
 "cells": [
  {
   "cell_type": "markdown",
   "id": "3d5ce92c",
   "metadata": {},
   "source": [
    "# Fundamental of optics"
   ]
  },
  {
   "cell_type": "markdown",
   "id": "4ab59969",
   "metadata": {},
   "source": [
    "Use positive (photography) convention\n",
    "\n",
    "## Paraxial approximation\n",
    "We assume that most rays are not deflected far from the optical axis.  Therefore we can have the simplification:  $\\sin \\theta \\approx \\theta$.\n",
    "\n",
    "When analyzing optical systems it is important to introduce the concepts of __chief ray__ and __marginal ray__.  \n",
    "\n",
    "<img src=\"img/Marginal_vs_chief_ray.png\" width=\"360\">\n",
    "\n",
    "The __chief__ or __principal ray__ is the ray that starts at the edge of the object passes through the center of the lens (or aperture stop).  It is the ray that will go through a pinhole camera.\n",
    "\n",
    "The __marginal ray__ is the ray that starts at at the point where the object crosses the optical axis and touches the edge of the aperture stop of the system.  It crosses the optical axis again at the locations where an image will be formed. \n",
    "\n",
    "The __meridional plane__ contains the chief ray.  The __sagittal plane__ contains the chief ray and is perpendicular to the meridional plane.\n",
    "\n",
    "<img src=\"img/MeridionalSagittalPlanes.PNG\" width=\"360\">\n",
    "\n"
   ]
  },
  {
   "cell_type": "markdown",
   "id": "5a17cd38",
   "metadata": {},
   "source": [
    "## Thin lens formula\n",
    "\\begin{align}\n",
    "\\frac{1}{f} = \\frac{1}{s_o} + \\frac{1}{s_i}\n",
    "\\end{align}\n",
    "\n",
    "_Linear Magnification_ transverse/lateral\n",
    "\\begin{align}\n",
    "M_T = -\\frac{s_i}{s_o} = \\frac{h_i}{h_o} = \\frac{f}{s_o-f} = \\frac{s_i-f}{f}\n",
    "\\end{align}\n",
    "\n",
    "_Angular magnification_\n",
    "\\begin{align}\n",
    "MA = \\frac{\\theta_i}{\\theta_o}\n",
    "\\end{align}\n",
    "\n",
    "_Longitudinal magnification_\n",
    "How the image position changes (differentially) for changes of the object position.\n",
    "\\begin{align}\n",
    "M_L = M_T^2\n",
    "\\end{align}"
   ]
  },
  {
   "cell_type": "markdown",
   "id": "f6e4f865",
   "metadata": {},
   "source": [
    "## Thick lens\n",
    "\n",
    "### Refraction at a spherical interface\n",
    "\n",
    "<img src=\"img/SphericalRefraction.PNG\" width=\"360\">\n",
    "Within the paraxial approximation, Snell's laws can be simplified and we can show that this spherical geometry can act as a positive lens (assuming $n_2 > n_1$).\n",
    "\n",
    "\\begin{align}\n",
    "\\frac{n_1}{s_o} + \\frac{n_2}{s_i} = \\frac{n_2 - n_1}{R} = f\n",
    "\\end{align}\n"
   ]
  },
  {
   "cell_type": "markdown",
   "id": "47637bb4",
   "metadata": {},
   "source": [
    "## Numerical aperture\n",
    "\n",
    "$N$ f/# given by the ratio of the focal length $f$ and diameter of the entrance pupil $D$.\n",
    "\\begin{align}\n",
    "N=\\frac{f}{D}\n",
    "\\end{align}\n",
    "\n",
    "numerical aperture:\n",
    "\\begin{align}\n",
    "\\text{NA}= n \\sin \\theta = n \\sin \\left( \\arctan \\left( \\frac{D}{2f} \\right) \\right) \\approx n \\frac{D}{2f}\n",
    "\\end{align}\n",
    "within the parallax approximation\n",
    "\n",
    "_Image side numerical apeture_ (or effective/working numerical aperture)\n",
    "\\begin{align}\n",
    "\\frac{1}{2\\text{NA}_i} = N_w = \\left( 1+\\frac{M}{P} \\right) \\frac{f}{D}\n",
    "\\end{align}\n",
    "$P$ is the pupil magnification (ratio of diameter of exit pupil over diameter of entrance pupil).  In general, $P=1$.\n",
    "\n",
    "_Object side numerical aperture_\n",
    "\\begin{align}\n",
    "\\frac{1}{2\\text{NA}_o} = \\left( \\frac{M+P}{MP} \\right) \\frac{f}{D}\n",
    "\\end{align}\n",
    "\n"
   ]
  },
  {
   "cell_type": "markdown",
   "id": "c2f23c7e",
   "metadata": {},
   "source": [
    "## Aberrations\n",
    "\n",
    "Deviations from the corresponding paraxial approximation\n",
    "\n",
    "### Chromatic\n",
    "$n(\\lambda)$ and ray components having different effective focal length.  Fpr a thick lens, one gets:\n",
    "\\begin{align}\n",
    "\\frac{1}{f} = (n-1) \\left(\\frac{1}{R_1} - \\frac{1}{R_2} \\right)\n",
    "\\end{align}\n",
    "\n",
    "<img src=\"img/RefractiveIndexGlass.PNG\" width=\"360\">\n",
    "\n",
    "It can be seen from the graph above that the blue region of the refractive index of materials is higher than the red.  Based on the equation above, this will lead to blue light focusing at shorter distances than red light.  \n",
    "\n",
    "Achromatic aberrations are easily corrected by using achromatic doublets or more generally achromatic lenses.\n",
    "\n",
    "### Monochromatic\n",
    "There are three categories of monochromatic aberrations: spherical aberrations, coma, and astigmatism\n",
    "\n",
    "Remember the paraxial approximation: $\\sin (\\theta) ~ \\theta$.  This is really a first order Taylor expansion for small $\\theta$.  If we include the next term in the Taylor expansion of the sine, we get a third-order correction, which explains the nature of monochromatic abberations!\n",
    "\n",
    "\\begin{align}\n",
    "\\sin \\theta \\approx \\theta - \\frac{1}{3} \\theta^3\n",
    "\\end{align}\n",
    "\n",
    "#### Spherical\n",
    "\n",
    "One can now revisit the derivation for the refraction at a spherical interface, $h$ the distance above the optical axis.\n",
    "\\begin{align}\n",
    "\\frac{n_1}{s_o} + \\frac{n_2}{s_i} = \\frac{n_2 - n_1}{R} + h^2 \\left( \\frac{n_1}{2s_o}\\left(\\frac{1}{s_o} + \\frac{1}{R} \\right)^2 + \\frac{n_2}{2s_i}\\left(\\frac{1}{R} - \\frac{1}{s_i} \\right)^2   \\right)\n",
    "\\end{align}\n",
    "\n",
    "One can see that rays furthers away from the optical axis will not converge at the paraxial focus ($f$), but closer to the vertex $V$.  This creates a blur in the focus, and therefore leading to spherical aberration.\n",
    "\n",
    "<img src=\"img/SphericalAberration.PNG\" width=\"360\">\n",
    "\n",
    "#### Coma\n",
    "\n",
    "Coma or comatic aberration is associated with the fact the principal planes are not planes, but curved surfaces. This results in different $M_T$ for both marginal and principal rays.  Since the principal planes are curved, this will result in different effective object and image distances, and therefore in variations in $M_T = s_i/s_o$. The coma abberation can result in \"comet-like\" tail, known as coma flare.  It is the hardest aberration to correct for.\n",
    "\n",
    "<img src=\"img/ComaAberration.PNG\" width=\"360\">\n",
    "\n",
    "#### Astigmatism\n",
    "\n",
    "<img src=\"img/Astigmatism.PNG\" width=\"360\">\n",
    "\n",
    "<img src=\"img/Astigmatism_2.PNG\" width=\"360\">\n",
    "\n",
    "\n",
    "### Distortion\n",
    "\n",
    "An ideal camera lens should not have any distortions.  In other word, a grid in the object plane should stay a grid in the image, left figure below.  However in many lenses this is not the case.  In fact, lenses can introduce barrel (center) or pincushion (right) distortions.  Some zoom lenses have multiple types of distortion depending on which focal lengths are used...\n",
    "\n",
    "<img src=\"img/LensDistortion.PNG\" width=\"360\">\n",
    "\n",
    "Perspective distortion are not lens distortion, but is inherent with imaging with non-telecentric lens.  This will be covered more in another module.\n",
    "\n",
    "\n",
    "### Field Curvature\n"
   ]
  },
  {
   "attachments": {},
   "cell_type": "markdown",
   "id": "a58de046",
   "metadata": {},
   "source": [
    "### Adaptive optics\n",
    "\n"
   ]
  }
 ],
 "metadata": {
  "kernelspec": {
   "display_name": "Python 3 (ipykernel)",
   "language": "python",
   "name": "python3"
  },
  "language_info": {
   "codemirror_mode": {
    "name": "ipython",
    "version": 3
   },
   "file_extension": ".py",
   "mimetype": "text/x-python",
   "name": "python",
   "nbconvert_exporter": "python",
   "pygments_lexer": "ipython3",
   "version": "3.9.12"
  }
 },
 "nbformat": 4,
 "nbformat_minor": 5
}
