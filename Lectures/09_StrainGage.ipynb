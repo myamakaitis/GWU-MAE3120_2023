{
 "cells": [
  {
   "cell_type": "markdown",
   "metadata": {},
   "source": [
    "# 09 Strain Gage\n",
    "\n",
    "This is one of the most commonly used sensor.  It is used in many transducers.  Its fundamental operating principle is fairly easy to understand and it will be the purpose of this lecture. \n",
    "\n",
    "A strain gage is essentially a thin wire that is wrapped on film of plastic.  \n",
    "<img src=\"img/StrainGage.png\" width=\"200\">\n",
    "The strain gage is then mounted (glued) on the part for which the strain must be measured.  \n",
    "<img src=\"img/Strain_gauge_2.jpg\" width=\"200\">\n",
    "\n",
    "## Stress, Strain\n",
    "When a beam is under axial load, the axial stress, $\\sigma_a$, is defined as:\n",
    "\\begin{align*}\n",
    "\\sigma_a = \\frac{F}{A}\n",
    "\\end{align*}\n",
    "with $F$ the axial load, and $A$ the cross sectional area of the beam under axial load.\n",
    "\n",
    "<img src=\"img/BeamUnderStrain.png\" width=\"200\">\n",
    "\n",
    "Under the load, the beam of length $L$ will extend by $dL$, giving rise to the definition of strain, $\\epsilon_a$:\n",
    "\\begin{align*}\n",
    "\\epsilon_a = \\frac{dL}{L}\n",
    "\\end{align*}\n",
    "The beam will also contract laterally: the cross sectional area is reduced by $dA$.  This results in a transverval strain $\\epsilon_t$.  The transversal and axial strains are related by the Poisson's ratio:\n",
    "\\begin{align*}\n",
    "\\nu = - \\frac{\\epsilon_t }{\\epsilon_a}\n",
    "\\end{align*}\n",
    "For a metal the Poission's ratio is typically $\\nu = 0.3$, for an incompressible material, such as rubber (or water), $\\nu = 0.5$.\n",
    "\n",
    "Within the elastic limit, the axial stress and axial strain are related through Hooke's law by the Young's modulus, $E$:\n",
    "\\begin{align*}\n",
    "\\sigma_a = E \\epsilon_a\n",
    "\\end{align*}\n",
    "\n",
    "<img src=\"img/ElasticRegime.png\" width=\"200\">"
   ]
  },
  {
   "cell_type": "markdown",
   "metadata": {},
   "source": [
    "## Resistance of a wire\n",
    "\n",
    "The electrical resistance of a wire $R$ is related to its physical properties (the electrical resistiviy, $\\rho$ in $\\Omega$/m) and its geometry: length $L$ and cross sectional area $A$.\n",
    "\n",
    "\\begin{align*}\n",
    "R = \\frac{\\rho L}{A}\n",
    "\\end{align*}\n",
    "\n",
    "Mathematically, the change in wire dimension will result inchange in its electrical resistance.  This can be derived from first principle:\n",
    "\\begin{align}\n",
    "\\frac{dR}{R} = \\frac{d\\rho}{\\rho} + \\frac{dL}{L} - \\frac{dA}{A}\n",
    "\\end{align}\n",
    "If the wire has a square cross section, then:\n",
    "\\begin{align*}\n",
    "A & = L'^2 \\\\\n",
    "\\frac{dA}{A} & = \\frac{d(L'^2)}{L'^2} = \\frac{2L'dL'}{L'^2} = 2 \\frac{dL'}{L'}\n",
    "\\end{align*}\n",
    "We have related the change in cross sectional area to the transversal strain.\n",
    "\\begin{align*}\n",
    "\\epsilon_t = \\frac{dL'}{L'}\n",
    "\\end{align*}\n",
    "Using the Poisson's ratio, we can relate then relate the change in cross-sectional area ($dA/A$) to axial strain $\\epsilon_a = dL/L$.\n",
    "\\begin{align*}\n",
    "\\epsilon_t &= - \\nu \\epsilon_a \\\\\n",
    "\\frac{dL'}{L'} &= - \\nu \\frac{dL}{L} \\; \\text{or}\\\\\n",
    "\\frac{dA}{A} & = 2\\frac{dL'}{L'} = -2 \\nu \\frac{dL}{L}\n",
    "\\end{align*}\n",
    "Finally we can substitute express $dA/A$ in eq. for $dR/R$ and relate change in resistance to change of wire geometry, remembering that for a metal $\\nu =0.3$:\n",
    "\\begin{align}\n",
    "\\frac{dR}{R} & = \\frac{d\\rho}{\\rho} + \\frac{dL}{L} - \\frac{dA}{A} \\\\\n",
    "& = \\frac{d\\rho}{\\rho} + \\frac{dL}{L} - (-2\\nu \\frac{dL}{L}) \\\\\n",
    "& = \\frac{d\\rho}{\\rho} + 1.6 \\frac{dL}{L} = \\frac{d\\rho}{\\rho} + 1.6 \\epsilon_a\n",
    "\\end{align}\n",
    "It also happens that for most metals, the resistivity increases with axial strain.  In general, one can then related the change in resistance to axial strain by defining the strain gage factor:\n",
    "\\begin{align}\n",
    "S = 1.6 + \\frac{d\\rho}{\\rho}\\cdot \\frac{1}{\\epsilon_a}\n",
    "\\end{align}\n",
    "and finally, we have:\n",
    "\\begin{align*}\n",
    "\\frac{dR}{R} =  S \\epsilon_a\n",
    "\\end{align*}\n",
    "$S$ is materials dependent and is typically equal to 2.0 for most commercially availabe strain gages. It is dimensionless.\n",
    "\n",
    "Strain gages are made of thin wire that is wraped in several loops, effectively increasing the length of the wire and therefore the sensitivity of the sensor.\n",
    "\n",
    "_Question:\n",
    "\n",
    "Explain why a longer wire is necessary to increase the sensitivity of the sensor_.\n",
    "\n",
    "Most commercially available strain gages have a nominal resistance (resistance under no load, $R_{ini}$) of 120 or 350 $\\Omega$.\n",
    "\n",
    "Within the elastic regime, strain is typically within the range $10^{-6} - 10^{-3}$, in fact strain is expressed in unit of microstrain, with a 1 microstrain = $10^{-6}$.  Therefore, changes in resistances will be of the same order.  If one were to measure resistances, we will need a dynamic range of 120 dB, whih is typically very expensive.  Instead, one uses the Wheatstone bridge to transform the change in resistance to a voltage, which is easier to measure and does not require such a large dynamic range."
   ]
  },
  {
   "cell_type": "markdown",
   "metadata": {},
   "source": [
    "## Wheatstone bridge:\n",
    "<img src=\"img/WheatstoneBridge.png\" width=\"200\">\n",
    "\n",
    "The output voltage is related to the difference in resistances in the bridge:\n",
    "\\begin{align*}\n",
    "\\frac{V_o}{V_s} = \\frac{R_1R_3-R_2R_4}{(R_1+R_4)(R_2+R_3)}\n",
    "\\end{align*}\n",
    "\n",
    "If the bridge is balanced, then $V_o = 0$, it implies: $R_1/R_2 = R_4/R_3$.\n",
    "\n",
    "In practice, finding a set of resistors that balances the bridge is challenging, and a potentiometer is used as one of the resistances to do minor adjustement to balance the bridge.  If one did not do the adjustement (ie if we did not zero the bridge) then all the measurement will have an offset or bias that could be removed in a post-processing phase, as long as the bias stayed constant.\n",
    "\n",
    "If each resistance $R_i$ is made to vary slightly around its initial value, ie $R_i = R_{i,ini} + dR_i$.  For simplicity, we will assume that the initial value of the four resistances are equal, ie $R_{1,ini} = R_{2,ini} = R_{3,ini} = R_{4,ini} = R_{ini}$.  This implies that the bridge was initially balanced, then the output voltage would be:\n",
    "\n",
    "\\begin{align*}\n",
    "\\frac{V_o}{V_s} = \\frac{1}{4} \\left( \\frac{dR_1}{R_{ini}} - \\frac{dR_2}{R_{ini}} + \\frac{dR_3}{R_{ini}} - \\frac{dR_4}{R_{ini}} \\right)\n",
    "\\end{align*}\n",
    "\n",
    "Note here that the changes in $R_1$ and $R_3$ have a positive effect on $V_o$, while the changes in $R_2$ and $R_4$ have a negative effect on $V_o$.  In practice, this means that is a beam is a in tension, then a strain gage mounted on the branch 1 or 3 of the Wheatstone bridge will produce a positive voltage, while a strain gage mounted on branch 2 or 4 will produce a negative voltage.  One takes advantage of this to increase sensitivity to measure strain.\n",
    "\n",
    "### Quarter bridge\n",
    "One uses only one quarter of the bridge, ie strain gages are only mounted on one branch of the bridge.\n",
    "\n",
    "\\begin{align*}\n",
    "\\frac{V_o}{V_s} = \\pm \\frac{1}{4} \\epsilon_a S\n",
    "\\end{align*}\n",
    "Sensitivity, $G$:\n",
    "\\begin{align*}\n",
    "G = \\frac{V_o}{\\epsilon_a} = \\pm \\frac{1}{4}S V_s\n",
    "\\end{align*}\n",
    "\n",
    "\n",
    "### Half bridge\n",
    "One uses half of the bridge, ie strain gages are mounted on two branches of the bridge.\n",
    "\n",
    "\\begin{align*}\n",
    "\\frac{V_o}{V_s} = \\pm \\frac{1}{2} \\epsilon_a S\n",
    "\\end{align*}\n",
    "\n",
    "### Full bridge\n",
    "\n",
    "One uses of the branches of the bridge, ie strain gages are mounted on each branch.\n",
    "\n",
    "\\begin{align*}\n",
    "\\frac{V_o}{V_s} = \\pm \\epsilon_a S\n",
    "\\end{align*}\n",
    "\n",
    "Therefore, as we increase the order of bridge, the sensitivity of the instrument increases.  However, one should be carefull how we mount the strain gages as to not cancel out their measurement."
   ]
  },
  {
   "cell_type": "markdown",
   "metadata": {},
   "source": [
    "_Exercise_\n",
    "\n",
    "1- Wheatstone bridge\n",
    "\n",
    "<img src=\"img/WheatstoneBridge.png\" width=\"200\">\n",
    "\n",
    "> How important is it to know \\& match the resistances of the resistors you employ to create your bridge?\n",
    "> How would you do that practically?\n",
    "> Assume $R_1=120\\,\\Omega$, $R_2=120\\,\\Omega$, $R_3=120\\,\\Omega$, $R_4=110\\,\\Omega$, $V_s=5.00\\,\\text{V}$.  What is $V_\\circ$?"
   ]
  },
  {
   "cell_type": "code",
   "execution_count": 1,
   "metadata": {},
   "outputs": [
    {
     "name": "stdout",
     "output_type": "stream",
     "text": [
      "Vo =  0.10869565217391304  V\n"
     ]
    }
   ],
   "source": [
    "Vs = 5.00\n",
    "Vo = (120**2-120*110)/(230*240) * Vs\n",
    "print('Vo = ',Vo, ' V')"
   ]
  },
  {
   "cell_type": "code",
   "execution_count": 2,
   "metadata": {},
   "outputs": [
    {
     "name": "stdout",
     "output_type": "stream",
     "text": [
      "120.24\n",
      "Vo =  -0.002497502497502434  V\n"
     ]
    }
   ],
   "source": [
    "# typical range in strain a strain gauge can measure\n",
    "# 1 -1000 micro-Strain\n",
    "AxialStrain = 1000*10**(-6)  # axial strain\n",
    "StrainGageFactor = 2\n",
    "R_ini = 120 # Ohm\n",
    "R_1 = R_ini+R_ini*StrainGageFactor*AxialStrain\n",
    "print(R_1)\n",
    "Vo = (120**2-120*(R_1))/((120+R_1)*240) * Vs\n",
    "print('Vo = ', Vo, ' V')"
   ]
  },
  {
   "cell_type": "markdown",
   "metadata": {},
   "source": [
    "> How important is it to know \\& match the resistances of the resistors you employ to create your bridge?\n",
    "> How would you do that practically?\n",
    "> Assume $R_1= R_2 =R_3=120\\,\\Omega$, $R_4=120.01\\,\\Omega$, $V_s=5.00\\,\\text{V}$.  What is $V_\\circ$?"
   ]
  },
  {
   "cell_type": "code",
   "execution_count": 3,
   "metadata": {},
   "outputs": [
    {
     "name": "stdout",
     "output_type": "stream",
     "text": [
      "-0.00010416232656978944\n"
     ]
    }
   ],
   "source": [
    "Vs = 5.00\n",
    "Vo = (120**2-120*120.01)/(240.01*240) * Vs\n",
    "print(Vo)"
   ]
  },
  {
   "cell_type": "markdown",
   "metadata": {},
   "source": [
    "2- Strain gage 1:\n",
    "\n",
    "One measures the strain on a bridge steel beam (This configuration can be modeled as a clamped-clamped horizontal beam).  The modulus of elasticity is $E=190$ GPa.  Only one strain gage is mounted on the bottom of the beam; the strain gage factor is $S=2.02$.\n",
    "\n",
    "> a) You want a positive voltage for a positive load (downward deflection). What kind of electronic circuit will you use?  Draw a sketch of it.\n",
    "\n"
   ]
  },
  {
   "cell_type": "markdown",
   "metadata": {},
   "source": [
    "In practice, we cannot have all resistances = 120 $\\Omega$.  at zero load, the bridge will be unbalanced (show $V_o \\neq 0$). How could we balance our bridge?\n",
    "\n",
    "Use a potentiometer to balance bridge, for the load cell, we ''zero'' the instrument.\n",
    "\n",
    "Other option to zero-out our instrument? Take data at zero-load, record the voltage, $V_{o,noload}$.  Substract $V_{o,noload}$ to my data."
   ]
  },
  {
   "cell_type": "markdown",
   "metadata": {},
   "source": [
    "> c) For a loading in which $V_\\circ = 1.25\\,\\text{mV}$, calculate the strain $\\epsilon_a$ in units of microstrain."
   ]
  },
  {
   "cell_type": "markdown",
   "metadata": {},
   "source": [
    "\\begin{align*}\n",
    "\\frac{V_o}{V_s} & =  \\frac{1}{4} \\epsilon_a S\\\\\n",
    "\\epsilon_a & = \\frac{4}{S} \\frac{V_o}{V_s}\n",
    "\\end{align*}"
   ]
  },
  {
   "cell_type": "code",
   "execution_count": 5,
   "metadata": {},
   "outputs": [
    {
     "name": "stdout",
     "output_type": "stream",
     "text": [
      "0.0004950495049504951\n"
     ]
    }
   ],
   "source": [
    "S = 2.02\n",
    "Vo = 0.00125\n",
    "Vs = 5\n",
    "eps_a = 1*(4/S)*(Vo/Vs)\n",
    "print(eps_a)"
   ]
  },
  {
   "cell_type": "markdown",
   "metadata": {},
   "source": [
    "> d) Calculate the axial stress (in MPa) in the beam under this load."
   ]
  },
  {
   "cell_type": "code",
   "execution_count": null,
   "metadata": {},
   "outputs": [],
   "source": []
  },
  {
   "cell_type": "markdown",
   "metadata": {},
   "source": [
    "> e) You now want more sensitivity in your measurement, you install a second strain gage on top of the beam.  Which resistor should you use for this second active strain gage?"
   ]
  },
  {
   "cell_type": "markdown",
   "metadata": {},
   "source": [
    "\n",
    "\n",
    "> f) With this new setup and the same applied load than previously, what should be the output voltage?"
   ]
  },
  {
   "cell_type": "markdown",
   "metadata": {},
   "source": [
    "3- Strain Gage with Long Lead Wires \n",
    "\n",
    "<img src=\"img/StrainGageLongWires.png\" width=\"360\">\n",
    "\n",
    "A quarter bridge strain gage Wheatstone bridge circuit is constructed with $120\\,\\Omega$ resistors and a $120\\,\\Omega$ strain gage.  For this practical application, the strain gage is located very far away form the DAQ station and the lead wires to the strain gage are $10\\,\\text{m}$ long and the lead wire have a resistance of $0.080\\,\\Omega/\\text{m}$.  The lead wire resistance can lead to problems since $R_{lead}$ changes with temperature.\n",
    "\n",
    "> Design a modified circuit that will cancel out the effect of the lead wires."
   ]
  },
  {
   "cell_type": "markdown",
   "metadata": {},
   "source": [
    "## Homework\n"
   ]
  }
 ],
 "metadata": {
  "kernelspec": {
   "display_name": "Python 3 (ipykernel)",
   "language": "python",
   "name": "python3"
  },
  "language_info": {
   "codemirror_mode": {
    "name": "ipython",
    "version": 3
   },
   "file_extension": ".py",
   "mimetype": "text/x-python",
   "name": "python",
   "nbconvert_exporter": "python",
   "pygments_lexer": "ipython3",
   "version": "3.9.13"
  }
 },
 "nbformat": 4,
 "nbformat_minor": 2
}
