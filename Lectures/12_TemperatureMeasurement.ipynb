{
 "cells": [
  {
   "cell_type": "markdown",
   "metadata": {},
   "source": [
    "# 12 Temperature Measurement\n",
    "\n",
    "- Mechanical\n",
    "- Thermoresitive (RTD, thermistor)\n",
    "- Thermoelectric (thermocouple-TC)\n",
    "- Radiative"
   ]
  },
  {
   "cell_type": "markdown",
   "metadata": {},
   "source": [
    "## Mechanical \n",
    "\n",
    "### liquid-in-glass thermometer\n",
    "calibrated 0-ftp.mak­#EIfiqdnd.mdahdnion them. motu\n",
    "'L immerse to here.\n",
    "### pressure thermometer\n",
    "gas\n",
    "bashing.G7#¥④s\n",
    "are T\n",
    "### bi-metallic strip thermometer\n",
    "straight aksfx-t-gmeklA.BA\n",
    "The metal B B\n",
    "T--Trey 1 B\n",
    "material D=-Iff linear coff.\n",
    "of thermal expansion\n",
    "density if PB> BA, T> Tref\n",
    "Tag\n",
    "geek"
   ]
  },
  {
   "cell_type": "markdown",
   "metadata": {},
   "source": [
    "## Thermoresistive:\n",
    "\n",
    "### RTD: Resistance Temperature Device\n",
    "same than a strain gage\n",
    "\n",
    "\\begin{align}\n",
    "R & = \\frac{\\rho L}{A} \\\\\n",
    "\\frac{dR}{R} & = \\frac{d\\rho}{\\rho} + \\frac{dL}{L} - \\frac{dA}{A}\n",
    "\\end{align}\n",
    "$R (T)$ is linear: $R(T) =R_0 + a (T-T_0)$\n",
    "\n",
    "### Thermistor \n",
    "semi-conductor material\n",
    "\\begin{align}\n",
    "R(T) = R_0 \\exp \\left( \\beta \\left( \\frac{1}{T} - \\frac{1}{T_0} \\right) \\right)\n",
    "\\end{align}\n",
    "Note $\\beta$ is not the coefficient of linear therma expansion\n",
    "\n",
    "need to be determine experimentally: $\\beta$, $R_0$, $T_0$.\n",
    "\n",
    "$R_0 ~ 5,000-10,000 \\Omega$\n",
    "\n",
    "→ sensing $dT$ → $dR >> dR_{lead}$\n",
    "\n",
    "Use Wheatstone bridge\n",
    "\n",
    "Thermistors have broad Temperature range than RTD's.  Resistance decreases with increasing temperature."
   ]
  },
  {
   "cell_type": "markdown",
   "metadata": {},
   "source": [
    "## Thermoelectric effects: thermocouples\n",
    "\n",
    "When two dissimilar metals are connected together a net electromotrive force (emf), which is primarily dependent on the temperature of the junction, is created.  This is the Seebeck effect.  Furthermore, if the two dissimilar metals are connected to a circuit that draws current, another emf is created.  This is the Peltier effect.  Finally, if there is a temperature gradient along one (or both) of the wires, then another emf is created: Thomson effect.  Therefore, there are 3 emfs present in the circuit:\n",
    "- Seebeck effect: junction of dissimilar materials\n",
    "- Peltier effect: current flow in the circuit\n",
    "- Thomson effect: temperature gradient in the materials\n",
    "\n",
    "For properly designed thermoelectric devices, we are only concerned with emf from Seebeck effect.  However, when we want to measure this emf, we need to connect the dissimilar metal wires to a measuring device (DMM or DAQ) and we are created another thermal junction at each of the wire connection.  This new emf will depend on the temperature of the junction.\n",
    "\n",
    "The temperature dependence of emf is complex, see fig below. \n",
    "<img src=\"img/TC_T.jpg\" width=\"240\">\n",
    "Values are typically reported in tables with respect to a reference temperature, $T_R$.  By convention $T_R = 0^\\circ$C, the thermocouple tables give emf relative to 0$^\\circ$C.  Also in the table emf is given positive for a temperature greater than 0$^\\circ$C. So, with this convention if a thermocouple measures the temperature between $T_1$ & $T_2$, then $E_{1-2} = E_{1-R} - E_{2-R}$.  $E_{i-R}$ is the value reported in the thermocouple tables.\n",
    "<img src=\"img/TC_TypeE.png\" width=\"360\">\n",
    "\n",
    "### Rules for analysis of thermoelectric circuits\n",
    "- __Law of intermediate metals__\n",
    "\n",
    "A third (intermediate) metal can be inserted in series with one of the wires, it won't affect the net emf as long as the new connections are at the same temperature.\n",
    "\n",
    "- __Law of intermediate temperature__\n",
    "\n",
    "If identical thermocouple wires are used, but connected between different temperatures.  The circuit between the temperatures $T_1$ & $T_2$ will develop an emf $E_{1-2}$, while the one between $T_2$ & $T_3$ will develop $E_{2-3}$.  The circuit between $T_1$ and $T_3$ will develop an emf $E_{1-3}$ which is the sum of $E_{1-2}$ & $E_{1-3}$:\n",
    "\\begin{align}\n",
    "E_{1-3} = E_{1-2} + E_{2-3}\n",
    "\\end{align}\n"
   ]
  },
  {
   "cell_type": "markdown",
   "metadata": {},
   "source": [
    "__Examples__\n",
    "\n",
    "- Three constant temperature bath are at at temperature $T_1=155^\\circ\\text{C, } T_2 = 100^\\circ\\text{C, } T_3 = 20^\\circ\\text{C}$. A type E thermocouple & DMM are used to measure $E_{1-2}, E_{2-3}, E_{1-3}$.  Predict the measured emfs $E_{1-2}, E_{2-3}, E_{1-3}$.\n",
    "\n",
    "Take TC tables for E-type TC:"
   ]
  },
  {
   "cell_type": "code",
   "execution_count": 10,
   "metadata": {},
   "outputs": [
    {
     "name": "stdout",
     "output_type": "stream",
     "text": [
      "E_12 =  3.8259999999999996 E_23 = 5.127 , E_13 =  8.953\n",
      "0.0\n"
     ]
    }
   ],
   "source": [
    "E_1R = 10.145; E_2R = 6.319; E_3R = 1.192 # mV\n",
    "E_12 = E_1R - E_2R; E_23 = E_2R-E_3R; E_13 = E_1R-E_3R\n",
    "\n",
    "print('E_12 = ',E_12 , 'E_23 =', E_23 , ', E_13 = ',E_13 )\n",
    "print(E_12+E_23-E_13)"
   ]
  },
  {
   "cell_type": "markdown",
   "metadata": {},
   "source": [
    "- A type E thermocouple is connected to DAQ whose terminals are at 25$^\\circ$C and which does not have temperature compensation.  The DAQ reads 3.685 mV.  What is the temperature of the thermocouple junction?"
   ]
  },
  {
   "cell_type": "code",
   "execution_count": null,
   "metadata": {},
   "outputs": [],
   "source": []
  },
  {
   "cell_type": "markdown",
   "metadata": {},
   "source": [
    "- A type J thermocouple is used to measure the temperature of an oven. An ice bath is used as a reference temperature junction.  The output voltage is $E = 10.779$ mV.\n",
    "\n",
    "1- Calculate temperature of the oven.\n",
    "\n",
    "$T_{oven} = 200^\\circ$C\n",
    "\n",
    "2- If ambient temperature $T = 20^\\circ$C is used instead of the ice bath for the reference temperature, and the oven was still at the same temperature, what would be the voltage output?\n",
    "\n",
    "$E_{1-2} = 9.760$ mV"
   ]
  },
  {
   "cell_type": "markdown",
   "metadata": {},
   "source": [
    "### Real effects/potential errors\n",
    "\n",
    "- Faulty wire replacement\n",
    "- Spurious connection (broken electrical insulation)\n",
    "- Temperature gradient effects"
   ]
  },
  {
   "cell_type": "markdown",
   "metadata": {},
   "source": [
    "### Dynamic response\n",
    "\n",
    "First order system with time constant:\n",
    "\\begin{align}\n",
    "\\tau = \\frac{mc}{hA}\n",
    "\\end{align}\n",
    "\n",
    "### (Dynamic) thermocouple compensation\n",
    "\n",
    "\\begin{align}\n",
    "\\left| \\frac{E_o}{E_i} \\right| & = \\alpha \\sqrt{ \\frac{1+\\omega^2 \\tau_c^2}{1+\\alpha^2 \\omega^2 \\tau_c^2} }\\\\ \n",
    "\\text{with} & \\; \\alpha  = \\frac{R}{R+R_c}, \\; \\tau_c = R_c C\n",
    "\\end{align}\n",
    "$\\omega$ frequency of the signal.\n",
    "\n",
    "At steady-state:\n",
    "\\begin{align}\n",
    "\\left| \\frac{E_o}{E_i} \\right|_{\\text{steady-state}} & = \\frac{R}{R+R_c} = \\alpha\n",
    "\\end{align}"
   ]
  },
  {
   "cell_type": "code",
   "execution_count": null,
   "metadata": {},
   "outputs": [],
   "source": []
  },
  {
   "cell_type": "code",
   "execution_count": null,
   "metadata": {},
   "outputs": [],
   "source": []
  }
 ],
 "metadata": {
  "kernelspec": {
   "display_name": "Python 3 (ipykernel)",
   "language": "python",
   "name": "python3"
  },
  "language_info": {
   "codemirror_mode": {
    "name": "ipython",
    "version": 3
   },
   "file_extension": ".py",
   "mimetype": "text/x-python",
   "name": "python",
   "nbconvert_exporter": "python",
   "pygments_lexer": "ipython3",
   "version": "3.9.13"
  }
 },
 "nbformat": 4,
 "nbformat_minor": 2
}
