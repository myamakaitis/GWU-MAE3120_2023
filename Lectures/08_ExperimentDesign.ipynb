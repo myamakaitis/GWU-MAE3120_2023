{
 "cells": [
  {
   "cell_type": "markdown",
   "metadata": {},
   "source": [
    "# 08 Design of experiments\n",
    "\n",
    "DOE, DOX, or experimental design is an entire field of expertise with dedicated courses in the EMSE department for example.  \n",
    "\n",
    "Experiments aim to test variations of a system under conditions that are hypothetize to create the variations.  In other words, it is the study of a system output (_dependent/output variables_ ) by controlling the input conditions (_independent/input variables_ ) in a predetermined way.  Additionally, there are _control variables_ that must be kept constant or monitored to prevent external factors from affecting the experiment results.  In an experiment, by design the input variables are controlled.  In a quasi-experiment, natural conditions are monitored while the output variables are observed.\n",
    "\n",
    "Therefore, the goal of an experiment are set the input variables range or discrete values to test the system and monitor the system output.  \n",
    "\n",
    "The main concerns of DOE are:\n",
    "- Validity of results\n",
    "\n",
    "Did I test the system over a range of input parameters for which it will be used?  Can I do a wind tunnel test of a model aircraft at the same Mach and Reynolds numbers expected in flight conditions?\n",
    "\n",
    "''The first step is clearly defining what it is you're after, because without knowing that, you'll never get it.''\n",
    "Halle Berry, actress\n",
    "\n",
    "- Reliability\n",
    "\n",
    "Are the results consistent?  It is necessary to perform repeat runs to test reliability.  Repeat runs enable to perform ensemble averaging and identify potential outliers.\n",
    "\n",
    "- Reproducibility\n",
    "\n",
    "Based on published report (or scientific manuscript), can another group reproduce the same experimental conditions and obtain similar results?\n",
    "\n",
    "- Statistical significance\n",
    "\n",
    "Measurements will have inherent variations and measurement uncertainty.  If we are dealing with a nondeterministic stationary system, datasets must be sufficiently large to be satistically converged in order to have estimate of populations statistics with confidence levels.  \n",
    "\n",
    "_Question:_\n",
    "What should be the minimum number of repeat runs one needs to perform?"
   ]
  },
  {
   "cell_type": "markdown",
   "metadata": {},
   "source": [
    "## Design steps\n",
    "\n",
    "Designing an experiments involves several steps that must be treated symbiotically.  Here is a simplified highlight of those steps.  Remember that when you have to conduct an experiment, you have incompressible parameters: your budget, timeline, and expertize.  \n",
    "\n",
    "- Define the problem\n",
    "\n",
    "This is sometimes the hardest part. \n",
    "\n",
    "First we need to define __output of the experiment__. This could be determining the operating range of an instrument, an optimum component in a system, or measuring the drag on an airfoil.\n",
    "\n",
    "\n",
    "- Design the experiment\n",
    "<img src=\"img/DesignExperiment.png\" width=\"360\">\n",
    "\n",
    "- Construct the experiment\n",
    "\n",
    "- Acquire data\n",
    "\n",
    "- Analyze data\n",
    "\n",
    "- Do confirmatory experiments (if necessary)\n",
    "\n",
    "- Interpret and report results and methodology.  \n",
    "\n",
    "Think about the wisdom pyramid introduced in the first lecture.  Running the experiment produced data.  The analysis of the data produced information.  Can we develop or test a model with the data?  Then we would have reached the knowledge step.  If we can test the validity of the model, then we would have wisdom.\n",
    "\n",
    "If we can reach at least the knowledge step of the pyramid, we can answer the question \"so what?\"\n",
    "\n"
   ]
  },
  {
   "cell_type": "markdown",
   "metadata": {},
   "source": [
    "## Test Matrix design\n",
    "This module is focused on methodologies to determine the optimal number of experimental runs, ie the test matrix.  Here we are looking for the optimum output/dependent variable ($X$) as a function of input/independent variables ($a, b, c, ...$).\n",
    "\n",
    "We are trying to determine the minimal number of runs to perform to save on cost and time.\n",
    "\n",
    "The input parameters can be dependent (i.e. $a$ affects $b$) or independent of each others (i.e. $a$ has no effect on $b$). Dependence/independence between the parameters will affect the design of the test matrix significantly.  This is best visualized with the graphs below for a function $X(a,b)$.\n",
    "\n",
    "<img src=\"img/IndependentInputVar.png\" width=\"360\">\n",
    "This plot is an _isocontour plot_.  The lines are contours for which $X$ is constant. Here if one changes _one parameter at a time_ we keep $b$ constant and find the optimum for $a$.  Then keeping $a$ at this value, one finds the optimum for $b$.  We can then iterate, keeping $b$ to its optimal value and optimizing for $a$.  If the variables are indepdendent from each other (like in the graph above), we should already be at the optimum for $a$, so the iteration will stop.  \n",
    "\n",
    "\n",
    "In the case when the two variables are not independent of each other we are in the case below.  Here the isocontour lines are titled with respect to the axes.\n",
    "<img src=\"img/DependentInputVar.png\" width=\"360\">\n",
    "Here if we use the _one parameter at a time_ approach, we will first find a local optimum for $a$, keeping $b$ constant.  Then we keep $a$ constant optimize for $b$.  When doing another iteration, we will reach another optimal value for $a$ and we must continue the iteration, which can be tedious.\n",
    "\n",
    "Changing _one parameter at a time_ can be a very tedious process and lead to a very large test matrix.  The Taguchi technique helps in achieving optimal matrices by changing all the parameters simultaneously.  \n",
    "\n",
    "\n",
    "### Full factorial analysis\n",
    "Let's use the following notation.  \n",
    "- $P$: number of parameters\n",
    "- $L$: number of levels each parameter is tested at\n",
    "\n",
    "In a full factorial analysis, each parameter $P$ is tested to $L$ values, while keeping the other parameters constant.  This leads to $N = L^P$ tests.\n",
    "\n",
    "The graph below is for $P=3$, $L=2$.\n",
    "\n",
    "<img src=\"img/DOE_Cube.png\" width=\"300\">\n",
    "\n",
    "_Question_: define the matrix of experiment for a full factorial in this case.  \n",
    "\n",
    "Here we have to do $N = 2^3 = 8$ runs.\n",
    "\\begin{array}{c |c|c|c| c}\n",
    "Run\\, \\# & a & b & c & X \\\\\n",
    "\\hline\n",
    "1 & 1 & 1 & 1& X_1\\\\\n",
    "2 & 2 & 1 & 1& X_2\\\\\n",
    "3 & 1 & 2 & 1& X_3\\\\\n",
    "4 & 2 & 2 & 1& X_4\\\\\n",
    "5 & 1 & 1 & 2& X_5\\\\\n",
    "6 & 2 & 1 & 2& X_6\\\\\n",
    "7 & 1 & 2 & 2& X_7\\\\\n",
    "8 & 2 & 2 & 2& X_8\\\\\n",
    "\\hline\n",
    "\\end{array}\n",
    "So in this case, we have to take a point at each corner of the cube.\n",
    "\n",
    "### Fractional factorial analysis\n",
    "In fractional factorial analysis, one runs only a fraction of the full factorial analysis.  \n",
    "\n",
    "Let's go back to the $P=3$, $L=2$ example above.  We can skip some test point and only do four runs $(X_1, X_2, X_3, X_4)$ illustrated on the figure below. Here the runs are represented with red dots.\n",
    "<img src=\"img/DOE_CubeFrac.png\" width=\"300\">\n",
    "\n",
    "We can still recover how $X$ is affected by $a$ aloneby performing a level average.  The level average for $a$ at level 1 is the average of all the tests for which $a$ is at level 1: $\\overline{X}_{a1} = 1/2 (X_1 + X_2)$.  Likewise the level average for $a$ at level 2 is  $\\overline{X}_{a2} = 1/2 (X_3 + X_4)$.\n",
    "\n",
    "Here the matrix of experiment reduces to:\n",
    "\\begin{array}{c |c|c|c| c}\n",
    "Run\\, \\# & a & b & c & X \\\\\n",
    "\\hline\n",
    "1 & 1 & 1 & 1 & X_1\\\\\n",
    "2 & 1 & 2 & 2 & X_2\\\\\n",
    "3 & 2 & 1 & 2 & X_3\\\\\n",
    "4 & 2 & 2 & 1 & X_4\\\\\n",
    "\\hline\n",
    "\\end{array}\n",
    "### Taguchi design array\n",
    "\n",
    "\n",
    "Taguchi design array or test matrices/design arrays/orthogonal arrays \n",
    "\n",
    "__Optimum Taguchi Design Array for fractional factorial analysis__\n",
    "> Each level of each parameter appears the same number of times in the array.\n",
    "\n",
    "> Repetitions of parameter-level combinations are minimized as much as possible.\n",
    "\n",
    "_Question_ Check that the two test matrices we developed above for the $P = 3$, $L = 2$ satisfy design rules for Taguchi arrays.\n",
    "\n"
   ]
  },
  {
   "cell_type": "markdown",
   "metadata": {},
   "source": [
    "### Taguchi design arrays\n",
    "Here are design arrays that have been compiled already.  Use them when you need to design a test matrix.\n",
    "\n",
    "<img src=\"img/TaguchiArrays.png\" width=\"400\">"
   ]
  },
  {
   "cell_type": "markdown",
   "metadata": {},
   "source": [
    "### Examples\n",
    "\n",
    "One student proposes this experimental design array for 3 parameters and 4 levels for each parameter, choosing to test each level of each parameter _twice_.\n",
    "\n",
    "\\begin{array}{c |c|c|c| c}\n",
    "Run\\, \\# & a & b & c & X \\\\\n",
    "\\hline\n",
    "1 & 1 & 1 & 1& X_1\\\\\n",
    "2 & 1 & 2 & 3& X_2\\\\\n",
    "\\hline\n",
    "3 & 2 & 3 & 4& X_3\\\\\n",
    "4 & 2 & 4 & 2& X_4\\\\\n",
    "\\hline\n",
    "5 & 3 & 1 & 2& X_5\\\\\n",
    "6 & 3 & 2 & 3& X_6\\\\\n",
    "\\hline\n",
    "7 & 4 & 2 & 3& X_7\\\\\n",
    "8 & 4 & 4 & 4& X_8\\\\\n",
    "\\hline\n",
    "\\end{array}"
   ]
  },
  {
   "cell_type": "code",
   "execution_count": 6,
   "metadata": {},
   "outputs": [
    {
     "name": "stdout",
     "output_type": "stream",
     "text": [
      "Full factorial analysis will require:\n",
      "N =  64  tests\n"
     ]
    }
   ],
   "source": [
    "print('Full factorial analysis will require:')\n",
    "N=4**3\n",
    "print('N = ', N, ' tests')"
   ]
  },
  {
   "cell_type": "markdown",
   "metadata": {},
   "source": [
    "Explain why this array is not a proper Taguchi array. How would you fix it?"
   ]
  },
  {
   "cell_type": "markdown",
   "metadata": {},
   "source": [
    "Another student has used the following Taguchi array with 3 parameters and 4 levels for each parameter, choosing to test each level of each parameter $twice$.  The resulting Taguchi array is valid, and the experimental results are given here:\n",
    "\\begin{array}{c |c|c|c| c}\n",
    "Run\\, \\# & a & b & c & X \\\\\n",
    "\\hline\n",
    "1 & 1 & 1 & 1& 1.51\\\\\n",
    "2 & 1 & 2 & 4& 1.84\\\\\n",
    "\\hline\n",
    "3 & 2 & 3 & 3& 2.11\\\\\n",
    "4 & 2 & 4 & 2& 0.58\\\\\n",
    "\\hline\n",
    "5 & 3 & 1 & 2& 2.35\\\\\n",
    "6 & 3 & 2 & 3& 2.44\\\\\n",
    "\\hline\n",
    "7 & 4 & 3 & 1& 1.40\\\\\n",
    "8 & 4 & 4 & 4& 1.98\\\\\n",
    "\\hline\n",
    "\\end{array}\n",
    "\n",
    "Calculate level average $\\overline{X}_{b3}$ and $\\overline{X}_{c1}$"
   ]
  },
  {
   "cell_type": "markdown",
   "metadata": {},
   "source": [
    "X_b3 = 1/2*(X_3 + X_7)\n",
    "\n",
    "X_c1 = 1/2*(X_1 + X_7)"
   ]
  },
  {
   "cell_type": "code",
   "execution_count": 8,
   "metadata": {},
   "outputs": [
    {
     "name": "stdout",
     "output_type": "stream",
     "text": [
      "1.755 1.455\n"
     ]
    }
   ],
   "source": [
    "X_1 = 1.51;  X_2 = 1.84; X_3 = 2.11; X_4 = 0.58; X_5 = 2.35; X_6 = 2.44; X_7 = 1.40; X_8 = 1.98\n",
    "\n",
    "X_b3 = 1/2*(X_3 + X_7)\n",
    "X_c1 = 1/2*(X_1 + X_7)\n",
    "print(X_b3, X_c1)"
   ]
  },
  {
   "cell_type": "markdown",
   "metadata": {},
   "source": [
    "X_b1, X_b2, X_b4?\n",
    "\n",
    "X_b1 = 1/2*(X_1 + X_5)"
   ]
  },
  {
   "cell_type": "code",
   "execution_count": 8,
   "metadata": {},
   "outputs": [
    {
     "name": "stdout",
     "output_type": "stream",
     "text": [
      "1.9300000000000002 2.14 1.755 1.28\n"
     ]
    }
   ],
   "source": [
    "X_b1 = 1/2*(X_1 + X_5); X_b2 = 1/2*(X_2 + X_6); X_b4 = 1/2*(X_4 + X_8)\n",
    "print(X_b1, X_b2, X_b3, X_b4)"
   ]
  },
  {
   "cell_type": "code",
   "execution_count": null,
   "metadata": {},
   "outputs": [],
   "source": []
  }
 ],
 "metadata": {
  "kernelspec": {
   "display_name": "Python 3 (ipykernel)",
   "language": "python",
   "name": "python3"
  },
  "language_info": {
   "codemirror_mode": {
    "name": "ipython",
    "version": 3
   },
   "file_extension": ".py",
   "mimetype": "text/x-python",
   "name": "python",
   "nbconvert_exporter": "python",
   "pygments_lexer": "ipython3",
   "version": "3.9.13"
  }
 },
 "nbformat": 4,
 "nbformat_minor": 2
}
