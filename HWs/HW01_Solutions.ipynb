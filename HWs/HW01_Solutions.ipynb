{
 "cells": [
  {
   "cell_type": "markdown",
   "metadata": {},
   "source": [
    "# MAE 3120\n",
    "## HW 01\n",
    "\n",
    "Due 02/12"
   ]
  },
  {
   "cell_type": "code",
   "execution_count": 3,
   "metadata": {},
   "outputs": [],
   "source": [
    "import numpy as np\n",
    "from matplotlib import pyplot\n",
    "%matplotlib inline"
   ]
  },
  {
   "cell_type": "markdown",
   "metadata": {},
   "source": [
    "### 1\n",
    "\n",
    "The actual (true) voltage is 3.1605 V.\n",
    "\n",
    "A digital multimeter is used to record the following voltages: 3.114, 3.010, 3.239, 3.019, 2.935, 3.050, 3.011, 3.125 V.\n",
    "\n",
    "(a) Calculate the mean systematic (or bias) error, and the precision error for this set of data."
   ]
  },
  {
   "cell_type": "code",
   "execution_count": 1,
   "metadata": {},
   "outputs": [
    {
     "name": "stdout",
     "output_type": "stream",
     "text": [
      "0.09762499999999985  V\n"
     ]
    }
   ],
   "source": [
    "V_avg = (3.114 + 3.010 + 3.239 + 3.019 + 2.935 + 3.050 + 3.011 + 3.125)/8\n",
    "V_true = 3.1605\n",
    "MBE = V_true - V_avg\n",
    "print(MBE, ' V')"
   ]
  },
  {
   "cell_type": "markdown",
   "metadata": {},
   "source": [
    "(b) If possible, how would you make the multimeter more accurate?\n",
    "\n",
    "-> better calibration"
   ]
  },
  {
   "cell_type": "markdown",
   "metadata": {},
   "source": [
    "(c) If possible, how would you make the multimeter more precise?\n",
    "\n",
    "-> not possible"
   ]
  },
  {
   "cell_type": "markdown",
   "metadata": {},
   "source": [
    "### 2\n",
    "\n",
    "Consider the periodic function:\n",
    "\n",
    "\\begin{align}\n",
    "y(t) = \\frac{t}{\\pi} \\quad \\text{for}\\, -\\pi \\geq t > \\pi\n",
    "\\end{align}\n",
    "\n",
    "(a) Plot the function $y(t)$ for $-3 \\pi \\geq t > 3 \\pi$.\n",
    "\n",
    "(b) Is the function odd or even? What does this imply for the Fourier coefficients $A_n$ and $B_n$?\n",
    "\n",
    "(c) Calculate $A_0$ and the $A_n$ and $B_n$.\n",
    "\n",
    "(d) Plot the first 8 harmonics ($n = 1 : 8$).\n",
    "\n",
    "(e) Plot of the sum of the first 8 harmonics (i.e. Fourier transform) overlapped with the original function.\n",
    "Describe discrepancies between the Fourier series and the original function.\n",
    "\n",
    "(f) Incease the number of harmonics in your Fourier transform. How many harmonics are necessary to\n",
    "reconstruct the original curve well?"
   ]
  },
  {
   "cell_type": "markdown",
   "metadata": {},
   "source": [
    "### 3  \n",
    "\n",
    "The signal $y(t)$ is sampled at 4.1 Hz and 1,024 points are acquired:\n",
    "\\begin{align}\n",
    "y(t) = 0.2425 + 1.2366 \\cos(2 \\pi t) + 2.2273 \\cos(10 \\pi t) - 1.7909 \\cos(14 \\pi t)\n",
    "\\end{align}\n",
    "\n",
    "(a) Is there aliasing at any of the harmonics? If so which harmonic(s)?\n",
    "\n",
    "-> the signal has harmonics: 1 Hz, 5 Hz, and 7 Hz.\n",
    "\n",
    "sampling frequency is 4.1 Hz, to request Nyquist criterion max frequency that can be sampled without aliasing is < 4.1/2 < 2.05 Hz.  5 Hz and 7 Hz will be aliased"
   ]
  },
  {
   "cell_type": "markdown",
   "metadata": {},
   "source": [
    "(b) Using FFTs, plot the spectrum. Remember to normalize the spectrum."
   ]
  },
  {
   "cell_type": "code",
   "execution_count": 8,
   "metadata": {},
   "outputs": [
    {
     "data": {
      "image/png": "[encoded data removed]",
      "text/plain": [
       "<Figure size 432x288 with 1 Axes>"
      ]
     },
     "metadata": {
      "needs_background": "light"
     },
     "output_type": "display_data"
    }
   ],
   "source": [
    "f_s = 4.1 # Hz\n",
    "N = 1024 # # points\n",
    "T_s = N/f_s # s\n",
    "\n",
    "timestep = T_s/N # time increment (s)\n",
    "t = np.arange(0,T_s,timestep) # time vector\n",
    "y_t = 0.2425+1.2366*np.cos(2*np.pi*t)+2.2273*np.cos(10*np.pi*t)-1.7909*np.cos(14*np.pi*t)\n",
    "sp = np.fft.fft(y_t) # compute FFT \n",
    "\n",
    "k = np.arange(int(N))\n",
    "frq = k/T_s # two sides frequency range\n",
    "frq = frq[range(int(N/2))] # one side frequency range\n",
    "sp1 = sp[range(int(N/2))]\n",
    "\n",
    "pyplot.plot(frq,abs(sp1)*2/N,'b.'); # plotting the spectrum\n",
    "# need to normalize y axis by *2/N"
   ]
  },
  {
   "cell_type": "markdown",
   "metadata": {},
   "source": [
    "(c) Propose a new sampling rate to digitze the signal accurately and compute the new spectra with FFT. "
   ]
  },
  {
   "cell_type": "code",
   "execution_count": 10,
   "metadata": {},
   "outputs": [
    {
     "data": {
      "image/png": "[encoded data removed]",
      "text/plain": [
       "<Figure size 432x288 with 1 Axes>"
      ]
     },
     "metadata": {
      "needs_background": "light"
     },
     "output_type": "display_data"
    }
   ],
   "source": [
    "# to prevent aliasing at the highest frequency, f_s>2*7 Hz, select 15 Hz\n",
    "f_s = 15 # Hz\n",
    "N = 1024 # # points\n",
    "T_s = N/f_s # s\n",
    "\n",
    "timestep = T_s/N # time increment (s)\n",
    "t = np.arange(0,T_s,timestep) # time vector\n",
    "y_t = 0.2425+1.2366*np.cos(2*np.pi*t)+2.2273*np.cos(10*np.pi*t)-1.7909*np.cos(14*np.pi*t)\n",
    "sp = np.fft.fft(y_t) # compute FFT \n",
    "\n",
    "k = np.arange(int(N))\n",
    "frq = k/T_s # two sides frequency range\n",
    "frq = frq[range(int(N/2))] # one side frequency range\n",
    "sp1 = sp[range(int(N/2))]\n",
    "\n",
    "pyplot.plot(frq,abs(sp1)*2/N,'b.'); # plotting the spectrum\n",
    "# need to normalize y axis by *2/N"
   ]
  },
  {
   "cell_type": "markdown",
   "metadata": {},
   "source": [
    "### 4\n",
    "\n",
    "A voltage signal is sampled digitally in the laboratory at three different sampling frequencies. Here is a\n",
    "record of the observations:\n",
    "\n",
    "1- Data sampled at 256 Hz: A signal appears at 52 Hz with amplitude 3.0 V and another peak appears\n",
    "at 112 Hz with amplitude 1.0 V.\n",
    "\n",
    "2- Data sampled at 512 Hz: A signal appears at 204 Hz with amplitude 3.0 V. Another signal appears at\n",
    "112 Hz, with amplitude close to 1.0 V.\n",
    "\n",
    "3- Data sampled at 1,024 Hz: A signal appears at 204 Hz, with amplitude close to 3.0 V. Another signal appears 400 Hz, with amplitude close to 1.0 V. \n",
    "\n",
    "Explain any aliasing frequencies in these measurements? Show all your calculations for full credit. What are\n",
    "most likely the true frequencies (and their corresponding amplitudes) in the voltage signal?"
   ]
  },
  {
   "cell_type": "markdown",
   "metadata": {},
   "source": [
    "-> This signal has two harmonics: A_1 = 3.0 and A_2 = 1.0.  As the sampling rate changes, the frequency of the harmonics changes pointing to aliasing.  The best way to solve this problem is to assume that at the highest sampling rate there is no aliasing and making sure the apparent frequencies are consistent with lower sampling rate.\n",
    "\n",
    "Focusing on A_1:  Assume 204 Hz is the true frequency. When sampling at 512 Hz, it won't be aliased, and wil be aliased at 256 Hz with an apparent frequency of 52 Hz.  This is self-consistent, A_1 has frequency 204 Hz.\n",
    "\n",
    "Focusing on A_2: Assume 400 Hz is the true frequency.  It will be aliased when sampled at 512 Hz, with apparent frequency 112 Hz.  It will also be aliased when sampled at 256 Hz, with apparent frequency 112 Hz.  This is also consistent and the true frequency is 112 Hz."
   ]
  },
  {
   "cell_type": "code",
   "execution_count": null,
   "metadata": {},
   "outputs": [],
   "source": []
  }
 ],
 "metadata": {
  "kernelspec": {
   "display_name": "Python 3 (ipykernel)",
   "language": "python",
   "name": "python3"
  },
  "language_info": {
   "codemirror_mode": {
    "name": "ipython",
    "version": 3
   },
   "file_extension": ".py",
   "mimetype": "text/x-python",
   "name": "python",
   "nbconvert_exporter": "python",
   "pygments_lexer": "ipython3",
   "version": "3.9.12"
  }
 },
 "nbformat": 4,
 "nbformat_minor": 2
}
