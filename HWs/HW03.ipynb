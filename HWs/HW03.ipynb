{
 "cells": [
  {
   "cell_type": "markdown",
   "metadata": {},
   "source": [
    "### MAE 3120\n",
    "## HW 01\n",
    "\n",
    "Due 03/24\n",
    "\n",
    "For full credit, show all your work.  "
   ]
  },
  {
   "cell_type": "markdown",
   "metadata": {},
   "source": [
    "### 1  Pressure Measurement \n",
    "\n",
    "A pressure transducer is connected to a digital data-acquisition board on a computer.  The characteristics of the pressure transducer and the data-acquisition system (DAS) are given below.  All uncertainties are given at 95\\% confidence level.  \n",
    "\n",
    "_Pressure Transducer Characteristics_\n",
    "\n",
    "Range: 0-1,000 kPa \n",
    "\n",
    "Output: 0-1 V \n",
    "\n",
    "Linearity: $\\pm 0.25\\%$ FS \n",
    "\n",
    "Repeatability: $\\pm 0.06\\%$ FS \n",
    "\n",
    "Hysterisis: $\\pm 0.1\\%$ FS\n",
    "\n",
    "_DAS Characteristics_\n",
    "\n",
    "Number of bits: 12 bits\n",
    "\n",
    "Input range: $0-10,\\, 0-1,\\, 0-0.1,\\, 0-0.01$ V\n",
    "\n",
    "Gain error: $\\pm 1$ LSD\n",
    "\n",
    "Linearity: $\\pm 1$ LSD\n",
    "\n",
    "(a) What is expected range of the pressure transducer output (in Volts).\n",
    "\n",
    "(b) Select the DAS input range that will give the best accuracy.  \n",
    "\n",
    "(c) Estimate the uncertainties (at 95\\% confidence level) from the pressure transducer, $u_{PT}$ and the DAS, $u_{DAS}$. \n",
    "\n",
    "(d) What is the overall uncertainty on pressure measurements made by this system.  \n",
    "\n",
    "(e) Which component contribute the most to uncertainty?  Provide a scheme to reduce the overall uncertainty."
   ]
  },
  {
   "cell_type": "markdown",
   "metadata": {},
   "source": [
    "### 2\n",
    "\n",
    "A $S$-type thermocouple has a sensor accuracy of $\\pm 0.25^\\circ$C.  It is used with a display unit (comprised of a transmitter, A/D conversion, display) that has $\\pm 0.5^\\circ$C accuracy.  What is the system overall accuracy? \n"
   ]
  },
  {
   "cell_type": "markdown",
   "metadata": {},
   "source": [
    "### 3  Propagation of Uncertainty \n",
    "A pressurized air tank is nominally at ambient temperature (20$^\\circ$C).  The gas inside obeys the ideal gas law.\n",
    "\n",
    "\n",
    "(a) How accurately can the density be determined if the temperature is measured with an uncertainty of $\\pm 1^\\circ$C and the tank pressure is measured with a relative uncertainty of $\\pm 0.5\\%$?\n",
    "\n",
    "(b) Suppose now that the density must be measured with an accuracy of $\\pm 0.25\\%$.  If the temperature measurement has an uncertainty of $\\pm 0.5^\\circ$C, how accurate must the pressure measurement be?\n"
   ]
  },
  {
   "cell_type": "markdown",
   "metadata": {},
   "source": [
    "### 4 Particulate Measurement \n",
    "\n",
    "\n",
    "\n",
    "<img src=\"img/HW4_LT.jpg\" width=\"240\">\n",
    "\n",
    "You are hired to build a laser transmissometer to monitor particulate concentration in a smoke stack with an accuracy of at least $\\pm 5\\%$.  The instrument works by shining a laser beam through the exhaust gases (see figure) and measuring the transmitted beam intensity on a transducer.  Laser beam absorption is described by:\n",
    "\\begin{equation}\n",
    "T = \\frac{I}{I_\\circ} = \\exp (-C \\cdot E \\cdot L)\n",
    "\\end{equation}\n",
    "where $T$ is the transmittance, $I_\\circ$ the intensity of the laser beam at the laser head, $I$ the transmitted intensity, $C$ the particulate concentration, $E$ the extinction coefficient, $L$ the diameter of the smoke stack.  \n",
    "\n",
    "Assume the uncertainty on $T\\, ,E\\, , L\\,$ is $\\pm 0.5\\%$.  \n",
    "\n",
    "(a) Plot $u_c/C$ vs $T$.  \n",
    "\n",
    "(b) Is this technique acceptable to measure the concentration with the required precision?\n",
    "\n",
    "(c) How could you modify the system to increase your accuracy?"
   ]
  },
  {
   "cell_type": "code",
   "execution_count": null,
   "metadata": {},
   "outputs": [],
   "source": []
  }
 ],
 "metadata": {
  "kernelspec": {
   "display_name": "Python 3 (ipykernel)",
   "language": "python",
   "name": "python3"
  },
  "language_info": {
   "codemirror_mode": {
    "name": "ipython",
    "version": 3
   },
   "file_extension": ".py",
   "mimetype": "text/x-python",
   "name": "python",
   "nbconvert_exporter": "python",
   "pygments_lexer": "ipython3",
   "version": "3.9.13"
  }
 },
 "nbformat": 4,
 "nbformat_minor": 2
}
