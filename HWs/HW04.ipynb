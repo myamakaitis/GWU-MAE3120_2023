{
 "cells": [
  {
   "cell_type": "markdown",
   "metadata": {},
   "source": [
    "#### MAE 3120\n",
    "## HW 01\n",
    "\n",
    "Due 04/13\n",
    "\n",
    "For full credit, show all your work.  "
   ]
  },
  {
   "cell_type": "markdown",
   "metadata": {},
   "source": [
    "### 1  Dynamic response of a Thermocouple\n",
    "\n",
    "A thermocouple is immersed in a liquid to monitor its temperature fluctuations.  Assume the thermocouple acts as a first-order system.  The temperature (in Kelvin) varies in time as:\n",
    "\\begin{equation*}\n",
    "T(t) = 300 + 30 \\sin (0.6 t)\n",
    "\\end{equation*}\n",
    "The output of the thermocouple transducer system (in V) is linearly proportional to temperature and has a static sensitivity of 5 mV/K.  A step-input calibration of the system reveals that its time constant is $\\tau = 1$ s.  \n",
    "\n",
    "Assume that at $t<0$ the thermocouple is immersed in the fluid, which has a constant temperature $T=300$ K.  The sinusoidal forcing starts at $t\\geq0$.\n",
    "\n",
    "\n",
    "(a) Determine the angular frequency, $\\omega$, of the temperature fluctuations.\n",
    "\n",
    "(b) Plot the output $E(t)$ in mV for the first 30 s.  On the same graph overlay the input $T(t)$.\n",
    "\n",
    "(c) Once the system has reached steady state determine the time lag $\\beta$ in seconds between the output and the input.\n",
    "\n",
    "(d) Remember the definition of the dynamic error (excluding the transient):\n",
    "\n",
    "\\begin{align*}\n",
    "\\epsilon_f(\\omega) = 1 - \\frac{1}{\\sqrt{1+\\omega^2 \\tau^2}}\n",
    "\\end{align*}\n",
    "\n",
    "Compute it.\n",
    "\n",
    "(e) What should be a minimal value of the time constant to have the thermocouple faithfully measure the temperature in the steady-state regime?  Here we will consider that the thermocouple is adequately sized if the dynamic error is kept below 0.1\\%.\n",
    "\n",
    "(f) Remember the definition of the time constant of a thermocouple:\n",
    "\\begin{equation*}\n",
    "\\tau = \\frac{mC}{hA}\n",
    "\\end{equation*}\n",
    "Assume the that the thermocouple is spherical, has constant density $\\rho$, and both the specific heat $C$ and heat transfer coefficient $h$ are constant.  By how much would you need to reduce the radius of the thermocouple to have a faithful response?\n"
   ]
  },
  {
   "cell_type": "markdown",
   "metadata": {},
   "source": [
    "### 2 Strain Gage measurement system\n",
    "\n",
    "A quarter-bridge Wheatstone bridge circuit is used with a strain gage to measure strain up to $1000\\, \\mu$strain for a cylindrical, vertical cable undergoing cyclical loading at $0.1$ Hz. \n",
    "\n",
    "In addition, you know that:\n",
    "\n",
    "_ There is noise on the input: $f_{noise}=60$ Hz with amplitude $\\pm 0.050$ mV. </br>\n",
    "_ The output is sent to a DAQ board, which has a 12 bit A/D converter with a controllable range of $\\pm 0.1, 1, 5, 10$ V.</br>\n",
    "_ All Wheatstone bridge resistors have resistance $120\\,\\Omega$ including the unloaded strain gage, resulting in a balanced bridge at zero strain.</br>\n",
    "_ The strain factor is $S=2.00$.</br>\n",
    "_ The supply voltage for the Wheatstone bridge is $V_s=5.00$ VDC.\n",
    "\n",
    "\n",
    "(a) How would you mount the strain gage on the cable and on your wheatstone bridge to get a positive voltage for a positive strain?  Justify your steps.\n",
    "\n",
    "(b) What would be the maximum output voltage you expect to measure?\n",
    "\n",
    "(c) Which range would you select on your DAQ?  \n",
    "\n",
    "(d) You will need to amplify your signal to make better use of the range of your DAQ.  Select (justifying why) the value of the gain.  How many amplifier stages are necessary.\n",
    "\n",
    "(e) How would you filter the noise in the amplified data?  I.e. give the value of the cutoff frequency, order of the filter.  Justify all your steps.\n",
    "\n",
    "(f) Propose a new configuration that makes use of two strain gages to increase the sensitivity.  \n",
    "\n",
    "(g) Could you use a full bridge in this configuration?  Justify why."
   ]
  },
  {
   "cell_type": "markdown",
   "metadata": {},
   "source": [
    "### 3  Strain gages\n",
    "\n",
    "Two identical 120 $\\Omega$ strain gages are mounted $90^\\circ$ to each other (in the $x$ and $y$ directions) on the metal surface of a beam under no-load conditions. The material properties are $E = 95.3$ GPa and $\\nu = 0.305$. It is known that $x$ and $y$ are principal axes. Each strain gage is connected to a separate, but identical, quarter-bridge Wheatstone bridge with $V_s = 6.00$ VDC. Resistor $R_3$ is used as the strain gage in each of the two bridge circuits. The strain gage factor is $S = 2.081$ for both strain gages, and the bridges are balanced when there is no load. \n",
    "\n",
    "When a load is applied to the surface (loading in both the $x$- and $y$-directions), the output voltage of the bridge associated with the $x$-direction strain gage reads $V_{o,x} = 3.16$ mV, and that associated with the $y$-direction strain gage reads $V_{o,y} = -2.03$ mV.\n",
    "\n",
    "(a) Calculate $\\epsilon_x$ and $\\epsilon_y$ in units of microstrain, and calculate $\\sigma_x$ and $\\sigma_y$ in units MPa.\n",
    "\n",
    "(b) Now you want to mount the two strain gages on a single 1/2 Wheatstone bridge.  Which resistors will you use to have the maximum sensitivity?  What would be the output voltage."
   ]
  },
  {
   "cell_type": "code",
   "execution_count": null,
   "metadata": {},
   "outputs": [],
   "source": []
  }
 ],
 "metadata": {
  "kernelspec": {
   "display_name": "Python 3 (ipykernel)",
   "language": "python",
   "name": "python3"
  },
  "language_info": {
   "codemirror_mode": {
    "name": "ipython",
    "version": 3
   },
   "file_extension": ".py",
   "mimetype": "text/x-python",
   "name": "python",
   "nbconvert_exporter": "python",
   "pygments_lexer": "ipython3",
   "version": "3.9.13"
  }
 },
 "nbformat": 4,
 "nbformat_minor": 2
}
